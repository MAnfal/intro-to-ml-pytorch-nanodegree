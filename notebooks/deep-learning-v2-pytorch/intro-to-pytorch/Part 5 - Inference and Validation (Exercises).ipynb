{
 "cells": [
  {
   "cell_type": "markdown",
   "metadata": {},
   "source": [
    "# Inference and Validation\n",
    "\n",
    "Now that you have a trained network, you can use it for making predictions. This is typically called **inference**, a term borrowed from statistics. However, neural networks have a tendency to perform *too well* on the training data and aren't able to generalize to data that hasn't been seen before. This is called **overfitting** and it impairs inference performance. To test for overfitting while training, we measure the performance on data not in the training set called the **validation** set. We avoid overfitting through regularization such as dropout while monitoring the validation performance during training. In this notebook, I'll show you how to do this in PyTorch. \n",
    "\n",
    "As usual, let's start by loading the dataset through torchvision. You'll learn more about torchvision and loading data in a later part. This time we'll be taking advantage of the test set which you can get by setting `train=False` here:\n",
    "\n",
    "```python\n",
    "testset = datasets.FashionMNIST('~/.pytorch/F_MNIST_data/', download=True, train=False, transform=transform)\n",
    "```\n",
    "\n",
    "The test set contains images just like the training set. Typically you'll see 10-20% of the original dataset held out for testing and validation with the rest being used for training."
   ]
  },
  {
   "cell_type": "code",
   "execution_count": 15,
   "metadata": {},
   "outputs": [
    {
     "name": "stdin",
     "output_type": "stream",
     "text": [
      "Once deleted, variables cannot be recovered. Proceed (y/[n])?  y\n"
     ]
    }
   ],
   "source": [
    "%reset\n",
    "import torch\n",
    "from torchvision import datasets, transforms\n",
    "\n",
    "cuda = torch.device('cuda:0')\n",
    "\n",
    "# Define a transform to normalize the data\n",
    "transform = transforms.Compose([transforms.ToTensor(),\n",
    "                                transforms.Normalize((0.5,), (0.5,))])\n",
    "# Download and load the training data\n",
    "trainset = datasets.FashionMNIST('~/.pytorch/F_MNIST_data/', download=True, train=True, transform=transform)\n",
    "trainloader = torch.utils.data.DataLoader(trainset, batch_size=64, shuffle=True)\n",
    "\n",
    "# Download and load the test data\n",
    "testset = datasets.FashionMNIST('~/.pytorch/F_MNIST_data/', download=True, train=False, transform=transform)\n",
    "testloader = torch.utils.data.DataLoader(testset, batch_size=64, shuffle=True)"
   ]
  },
  {
   "cell_type": "markdown",
   "metadata": {},
   "source": [
    "Here I'll create a model like normal, using the same one from my solution for part 4."
   ]
  },
  {
   "cell_type": "code",
   "execution_count": 3,
   "metadata": {},
   "outputs": [],
   "source": [
    "from torch import nn, optim\n",
    "import torch.nn.functional as F\n",
    "\n",
    "class Classifier(nn.Module):\n",
    "    def __init__(self):\n",
    "        super().__init__()\n",
    "        self.fc1 = nn.Linear(784, 256)\n",
    "        self.fc2 = nn.Linear(256, 128)\n",
    "        self.fc3 = nn.Linear(128, 64)\n",
    "        self.fc4 = nn.Linear(64, 10)\n",
    "        \n",
    "    def forward(self, x):\n",
    "        # make sure input tensor is flattened\n",
    "        x = x.view(x.shape[0], -1)\n",
    "        \n",
    "        x = F.relu(self.fc1(x))\n",
    "        x = F.relu(self.fc2(x))\n",
    "        x = F.relu(self.fc3(x))\n",
    "        x = F.log_softmax(self.fc4(x), dim=1)\n",
    "        \n",
    "        return x"
   ]
  },
  {
   "cell_type": "markdown",
   "metadata": {},
   "source": [
    "The goal of validation is to measure the model's performance on data that isn't part of the training set. Performance here is up to the developer to define though. Typically this is just accuracy, the percentage of classes the network predicted correctly. Other options are [precision and recall](https://en.wikipedia.org/wiki/Precision_and_recall#Definition_(classification_context)) and top-5 error rate. We'll focus on accuracy here. First I'll do a forward pass with one batch from the test set."
   ]
  },
  {
   "cell_type": "code",
   "execution_count": 4,
   "metadata": {},
   "outputs": [
    {
     "name": "stdout",
     "output_type": "stream",
     "text": [
      "torch.Size([64, 10])\n"
     ]
    }
   ],
   "source": [
    "model = Classifier()\n",
    "\n",
    "images, labels = next(iter(testloader))\n",
    "# Get the class probabilities\n",
    "ps = torch.exp(model(images))\n",
    "# Make sure the shape is appropriate, we should get 10 class probabilities for 64 examples\n",
    "print(ps.shape)"
   ]
  },
  {
   "cell_type": "markdown",
   "metadata": {},
   "source": [
    "With the probabilities, we can get the most likely class using the `ps.topk` method. This returns the $k$ highest values. Since we just want the most likely class, we can use `ps.topk(1)`. This returns a tuple of the top-$k$ values and the top-$k$ indices. If the highest value is the fifth element, we'll get back 4 as the index."
   ]
  },
  {
   "cell_type": "code",
   "execution_count": 5,
   "metadata": {},
   "outputs": [
    {
     "name": "stdout",
     "output_type": "stream",
     "text": [
      "tensor([[6],\n",
      "        [6],\n",
      "        [6],\n",
      "        [6],\n",
      "        [6],\n",
      "        [6],\n",
      "        [8],\n",
      "        [6],\n",
      "        [5],\n",
      "        [6]])\n"
     ]
    }
   ],
   "source": [
    "top_p, top_class = ps.topk(1, dim=1)\n",
    "# Look at the most likely classes for the first 10 examples\n",
    "print(top_class[:10,:])"
   ]
  },
  {
   "cell_type": "markdown",
   "metadata": {},
   "source": [
    "Now we can check if the predicted classes match the labels. This is simple to do by equating `top_class` and `labels`, but we have to be careful of the shapes. Here `top_class` is a 2D tensor with shape `(64, 1)` while `labels` is 1D with shape `(64)`. To get the equality to work out the way we want, `top_class` and `labels` must have the same shape.\n",
    "\n",
    "If we do\n",
    "\n",
    "```python\n",
    "equals = top_class == labels\n",
    "```\n",
    "\n",
    "`equals` will have shape `(64, 64)`, try it yourself. What it's doing is comparing the one element in each row of `top_class` with each element in `labels` which returns 64 True/False boolean values for each row."
   ]
  },
  {
   "cell_type": "code",
   "execution_count": 6,
   "metadata": {},
   "outputs": [],
   "source": [
    "equals = top_class == labels.view(*top_class.shape)"
   ]
  },
  {
   "cell_type": "markdown",
   "metadata": {},
   "source": [
    "Now we need to calculate the percentage of correct predictions. `equals` has binary values, either 0 or 1. This means that if we just sum up all the values and divide by the number of values, we get the percentage of correct predictions. This is the same operation as taking the mean, so we can get the accuracy with a call to `torch.mean`. If only it was that simple. If you try `torch.mean(equals)`, you'll get an error\n",
    "\n",
    "```\n",
    "RuntimeError: mean is not implemented for type torch.ByteTensor\n",
    "```\n",
    "\n",
    "This happens because `equals` has type `torch.ByteTensor` but `torch.mean` isn't implemented for tensors with that type. So we'll need to convert `equals` to a float tensor. Note that when we take `torch.mean` it returns a scalar tensor, to get the actual value as a float we'll need to do `accuracy.item()`."
   ]
  },
  {
   "cell_type": "code",
   "execution_count": 7,
   "metadata": {},
   "outputs": [
    {
     "name": "stdout",
     "output_type": "stream",
     "text": [
      "Accuracy: 3.125%\n"
     ]
    }
   ],
   "source": [
    "accuracy = torch.mean(equals.type(torch.FloatTensor))\n",
    "print(f'Accuracy: {accuracy.item()*100}%')"
   ]
  },
  {
   "cell_type": "markdown",
   "metadata": {},
   "source": [
    "The network is untrained so it's making random guesses and we should see an accuracy around 10%. Now let's train our network and include our validation pass so we can measure how well the network is performing on the test set. Since we're not updating our parameters in the validation pass, we can speed up our code by turning off gradients using `torch.no_grad()`:\n",
    "\n",
    "```python\n",
    "# turn off gradients\n",
    "with torch.no_grad():\n",
    "    # validation pass here\n",
    "    for images, labels in testloader:\n",
    "        ...\n",
    "```\n",
    "\n",
    ">**Exercise:** Implement the validation loop below and print out the total accuracy after the loop. You can largely copy and paste the code from above, but I suggest typing it in because writing it out yourself is essential for building the skill. In general you'll always learn more by typing it rather than copy-pasting. You should be able to get an accuracy above 80%."
   ]
  },
  {
   "cell_type": "code",
   "execution_count": 11,
   "metadata": {},
   "outputs": [
    {
     "name": "stdout",
     "output_type": "stream",
     "text": [
      "Epoch: 1/30..  Training Loss: 0.517..  Test Loss: 0.434..  Test Accuracy: 0.846\n",
      "Epoch: 2/30..  Training Loss: 0.392..  Test Loss: 0.403..  Test Accuracy: 0.857\n",
      "Epoch: 3/30..  Training Loss: 0.354..  Test Loss: 0.380..  Test Accuracy: 0.863\n",
      "Epoch: 4/30..  Training Loss: 0.329..  Test Loss: 0.384..  Test Accuracy: 0.861\n",
      "Epoch: 5/30..  Training Loss: 0.316..  Test Loss: 0.372..  Test Accuracy: 0.869\n",
      "Epoch: 6/30..  Training Loss: 0.303..  Test Loss: 0.411..  Test Accuracy: 0.867\n",
      "Epoch: 7/30..  Training Loss: 0.291..  Test Loss: 0.373..  Test Accuracy: 0.869\n",
      "Epoch: 8/30..  Training Loss: 0.280..  Test Loss: 0.381..  Test Accuracy: 0.871\n",
      "Epoch: 9/30..  Training Loss: 0.276..  Test Loss: 0.388..  Test Accuracy: 0.867\n",
      "Epoch: 10/30..  Training Loss: 0.266..  Test Loss: 0.370..  Test Accuracy: 0.877\n",
      "Epoch: 11/30..  Training Loss: 0.262..  Test Loss: 0.372..  Test Accuracy: 0.872\n",
      "Epoch: 12/30..  Training Loss: 0.253..  Test Loss: 0.359..  Test Accuracy: 0.876\n",
      "Epoch: 13/30..  Training Loss: 0.247..  Test Loss: 0.359..  Test Accuracy: 0.879\n",
      "Epoch: 14/30..  Training Loss: 0.242..  Test Loss: 0.412..  Test Accuracy: 0.867\n",
      "Epoch: 15/30..  Training Loss: 0.239..  Test Loss: 0.399..  Test Accuracy: 0.870\n",
      "Epoch: 16/30..  Training Loss: 0.234..  Test Loss: 0.382..  Test Accuracy: 0.871\n",
      "Epoch: 17/30..  Training Loss: 0.230..  Test Loss: 0.382..  Test Accuracy: 0.870\n",
      "Epoch: 18/30..  Training Loss: 0.225..  Test Loss: 0.401..  Test Accuracy: 0.881\n",
      "Epoch: 19/30..  Training Loss: 0.225..  Test Loss: 0.376..  Test Accuracy: 0.882\n",
      "Epoch: 20/30..  Training Loss: 0.216..  Test Loss: 0.376..  Test Accuracy: 0.883\n",
      "Epoch: 21/30..  Training Loss: 0.213..  Test Loss: 0.411..  Test Accuracy: 0.881\n",
      "Epoch: 22/30..  Training Loss: 0.210..  Test Loss: 0.383..  Test Accuracy: 0.883\n",
      "Epoch: 23/30..  Training Loss: 0.205..  Test Loss: 0.379..  Test Accuracy: 0.883\n",
      "Epoch: 24/30..  Training Loss: 0.205..  Test Loss: 0.362..  Test Accuracy: 0.887\n",
      "Epoch: 25/30..  Training Loss: 0.203..  Test Loss: 0.440..  Test Accuracy: 0.876\n",
      "Epoch: 26/30..  Training Loss: 0.202..  Test Loss: 0.408..  Test Accuracy: 0.882\n",
      "Epoch: 27/30..  Training Loss: 0.198..  Test Loss: 0.401..  Test Accuracy: 0.887\n",
      "Epoch: 28/30..  Training Loss: 0.192..  Test Loss: 0.419..  Test Accuracy: 0.882\n",
      "Epoch: 29/30..  Training Loss: 0.186..  Test Loss: 0.430..  Test Accuracy: 0.878\n",
      "Epoch: 30/30..  Training Loss: 0.189..  Test Loss: 0.417..  Test Accuracy: 0.879\n"
     ]
    }
   ],
   "source": [
    "model = Classifier()\n",
    "criterion = nn.NLLLoss()\n",
    "optimizer = optim.Adam(model.parameters(), lr=0.003)\n",
    "\n",
    "epochs = 30\n",
    "steps = 0\n",
    "\n",
    "model.to(cuda)\n",
    "\n",
    "train_losses, test_losses = [], []\n",
    "for e in range(epochs):\n",
    "    running_loss = 0\n",
    "    for images, labels in trainloader:\n",
    "        \n",
    "        images, labels = images.to(cuda), labels.to(cuda)\n",
    "        \n",
    "        optimizer.zero_grad()\n",
    "        \n",
    "        log_ps = model(images)\n",
    "        loss = criterion(log_ps, labels)\n",
    "        loss.backward()\n",
    "        optimizer.step()\n",
    "        \n",
    "        running_loss += loss.item()\n",
    "        \n",
    "    else:\n",
    "        test_loss = 0\n",
    "        accuracy = 0\n",
    "        \n",
    "        # Turn off gradients for validation, saves memory and computations\n",
    "        with torch.no_grad():\n",
    "            for images, labels in testloader:\n",
    "                images, labels = images.to(cuda), labels.to(cuda)\n",
    "                \n",
    "                log_ps = model(images)\n",
    "                test_loss += criterion(log_ps, labels)\n",
    "                \n",
    "                ps = torch.exp(log_ps)\n",
    "                top_p, top_class = ps.topk(1, dim=1)\n",
    "                equals = top_class == labels.view(*top_class.shape)\n",
    "                accuracy += torch.mean(equals.type(torch.FloatTensor))\n",
    "                \n",
    "        train_losses.append(running_loss/len(trainloader))\n",
    "        test_losses.append(test_loss/len(testloader))\n",
    "\n",
    "        print(\"Epoch: {}/{}.. \".format(e+1, epochs),\n",
    "              \"Training Loss: {:.3f}.. \".format(running_loss/len(trainloader)),\n",
    "              \"Test Loss: {:.3f}.. \".format(test_loss/len(testloader)),\n",
    "              \"Test Accuracy: {:.3f}\".format(accuracy/len(testloader)))"
   ]
  },
  {
   "cell_type": "code",
   "execution_count": 18,
   "metadata": {},
   "outputs": [],
   "source": [
    "%matplotlib inline\n",
    "%config InlineBackend.figure_format = 'retina'\n",
    "\n",
    "import matplotlib.pyplot as plt"
   ]
  },
  {
   "cell_type": "code",
   "execution_count": 13,
   "metadata": {},
   "outputs": [
    {
     "data": {
      "text/plain": [
       "<matplotlib.legend.Legend at 0x7f4fbdeae640>"
      ]
     },
     "execution_count": 13,
     "metadata": {},
     "output_type": "execute_result"
    },
    {
     "data": {
      "image/png": "[encoded data removed]",
      "text/plain": [
       "<Figure size 432x288 with 1 Axes>"
      ]
     },
     "metadata": {
      "image/png": {
       "height": 248,
       "width": 380
      },
      "needs_background": "light"
     },
     "output_type": "display_data"
    }
   ],
   "source": [
    "plt.plot(train_losses, label='Training loss')\n",
    "plt.plot(test_losses, label='Validation loss')\n",
    "plt.legend(frameon=False)"
   ]
  },
  {
   "cell_type": "markdown",
   "metadata": {},
   "source": [
    "## Overfitting\n",
    "\n",
    "If we look at the training and validation losses as we train the network, we can see a phenomenon known as overfitting.\n",
    "\n",
    "<img src='assets/overfitting.png' width=450px>\n",
    "\n",
    "The network learns the training set better and better, resulting in lower training losses. However, it starts having problems generalizing to data outside the training set leading to the validation loss increasing. The ultimate goal of any deep learning model is to make predictions on new data, so we should strive to get the lowest validation loss possible. One option is to use the version of the model with the lowest validation loss, here the one around 8-10 training epochs. This strategy is called *early-stopping*. In practice, you'd save the model frequently as you're training then later choose the model with the lowest validation loss.\n",
    "\n",
    "The most common method to reduce overfitting (outside of early-stopping) is *dropout*, where we randomly drop input units. This forces the network to share information between weights, increasing it's ability to generalize to new data. Adding dropout in PyTorch is straightforward using the [`nn.Dropout`](https://pytorch.org/docs/stable/nn.html#torch.nn.Dropout) module.\n",
    "\n",
    "```python\n",
    "class Classifier(nn.Module):\n",
    "    def __init__(self):\n",
    "        super().__init__()\n",
    "        self.fc1 = nn.Linear(784, 256)\n",
    "        self.fc2 = nn.Linear(256, 128)\n",
    "        self.fc3 = nn.Linear(128, 64)\n",
    "        self.fc4 = nn.Linear(64, 10)\n",
    "        \n",
    "        # Dropout module with 0.2 drop probability\n",
    "        self.dropout = nn.Dropout(p=0.2)\n",
    "        \n",
    "    def forward(self, x):\n",
    "        # make sure input tensor is flattened\n",
    "        x = x.view(x.shape[0], -1)\n",
    "        \n",
    "        # Now with dropout\n",
    "        x = self.dropout(F.relu(self.fc1(x)))\n",
    "        x = self.dropout(F.relu(self.fc2(x)))\n",
    "        x = self.dropout(F.relu(self.fc3(x)))\n",
    "        \n",
    "        # output so no dropout here\n",
    "        x = F.log_softmax(self.fc4(x), dim=1)\n",
    "        \n",
    "        return x\n",
    "```\n",
    "\n",
    "During training we want to use dropout to prevent overfitting, but during inference we want to use the entire network. So, we need to turn off dropout during validation, testing, and whenever we're using the network to make predictions. To do this, you use `model.eval()`. This sets the model to evaluation mode where the dropout probability is 0. You can turn dropout back on by setting the model to train mode with `model.train()`. In general, the pattern for the validation loop will look like this, where you turn off gradients, set the model to evaluation mode, calculate the validation loss and metric, then set the model back to train mode.\n",
    "\n",
    "```python\n",
    "# turn off gradients\n",
    "with torch.no_grad():\n",
    "    \n",
    "    # set model to evaluation mode\n",
    "    model.eval()\n",
    "    \n",
    "    # validation pass here\n",
    "    for images, labels in testloader:\n",
    "        ...\n",
    "\n",
    "# set model back to train mode\n",
    "model.train()\n",
    "```"
   ]
  },
  {
   "cell_type": "markdown",
   "metadata": {},
   "source": [
    "> **Exercise:** Add dropout to your model and train it on Fashion-MNIST again. See if you can get a lower validation loss or higher accuracy."
   ]
  },
  {
   "cell_type": "code",
   "execution_count": 16,
   "metadata": {},
   "outputs": [],
   "source": [
    "## TODO: Define your model with dropout added\n",
    "from torch import nn, optim\n",
    "import torch.nn.functional as F\n",
    "\n",
    "class Classifier(nn.Module):\n",
    "    def __init__(self):\n",
    "        super().__init__()\n",
    "        self.fc1 = nn.Linear(784, 256)\n",
    "        self.fc2 = nn.Linear(256, 128)\n",
    "        self.fc3 = nn.Linear(128, 64)\n",
    "        self.fc4 = nn.Linear(64, 10)\n",
    "        \n",
    "        self.dropout = nn.Dropout(p=0.2)\n",
    "        \n",
    "    def forward(self, x):\n",
    "        # make sure input tensor is flattened\n",
    "        x = x.view(x.shape[0], -1)\n",
    "        \n",
    "        x = self.dropout(F.relu(self.fc1(x)))\n",
    "        x = self.dropout(F.relu(self.fc2(x)))\n",
    "        x = self.dropout(F.relu(self.fc3(x)))\n",
    "        x = F.log_softmax(self.fc4(x), dim=1)\n",
    "        \n",
    "        return x"
   ]
  },
  {
   "cell_type": "code",
   "execution_count": 20,
   "metadata": {},
   "outputs": [
    {
     "name": "stdout",
     "output_type": "stream",
     "text": [
      "Epoch: 1/30..  Training Loss: 0.608..  Test Loss: 0.508..  Test Accuracy: 0.813\n",
      "Epoch: 2/30..  Training Loss: 0.486..  Test Loss: 0.413..  Test Accuracy: 0.850\n",
      "Epoch: 3/30..  Training Loss: 0.452..  Test Loss: 0.433..  Test Accuracy: 0.843\n",
      "Epoch: 4/30..  Training Loss: 0.434..  Test Loss: 0.405..  Test Accuracy: 0.854\n",
      "Epoch: 5/30..  Training Loss: 0.424..  Test Loss: 0.396..  Test Accuracy: 0.858\n",
      "Epoch: 6/30..  Training Loss: 0.404..  Test Loss: 0.401..  Test Accuracy: 0.860\n",
      "Epoch: 7/30..  Training Loss: 0.409..  Test Loss: 0.396..  Test Accuracy: 0.859\n",
      "Epoch: 8/30..  Training Loss: 0.400..  Test Loss: 0.390..  Test Accuracy: 0.862\n",
      "Epoch: 9/30..  Training Loss: 0.393..  Test Loss: 0.388..  Test Accuracy: 0.861\n",
      "Epoch: 10/30..  Training Loss: 0.390..  Test Loss: 0.402..  Test Accuracy: 0.861\n",
      "Epoch: 11/30..  Training Loss: 0.384..  Test Loss: 0.397..  Test Accuracy: 0.855\n",
      "Epoch: 12/30..  Training Loss: 0.384..  Test Loss: 0.388..  Test Accuracy: 0.865\n",
      "Epoch: 13/30..  Training Loss: 0.382..  Test Loss: 0.392..  Test Accuracy: 0.867\n",
      "Epoch: 14/30..  Training Loss: 0.374..  Test Loss: 0.409..  Test Accuracy: 0.855\n",
      "Epoch: 15/30..  Training Loss: 0.366..  Test Loss: 0.383..  Test Accuracy: 0.865\n",
      "Epoch: 16/30..  Training Loss: 0.374..  Test Loss: 0.376..  Test Accuracy: 0.869\n",
      "Epoch: 17/30..  Training Loss: 0.361..  Test Loss: 0.396..  Test Accuracy: 0.864\n",
      "Epoch: 18/30..  Training Loss: 0.363..  Test Loss: 0.380..  Test Accuracy: 0.868\n",
      "Epoch: 19/30..  Training Loss: 0.356..  Test Loss: 0.386..  Test Accuracy: 0.868\n",
      "Epoch: 20/30..  Training Loss: 0.361..  Test Loss: 0.378..  Test Accuracy: 0.872\n",
      "Epoch: 21/30..  Training Loss: 0.354..  Test Loss: 0.377..  Test Accuracy: 0.875\n",
      "Epoch: 22/30..  Training Loss: 0.355..  Test Loss: 0.366..  Test Accuracy: 0.869\n",
      "Epoch: 23/30..  Training Loss: 0.345..  Test Loss: 0.374..  Test Accuracy: 0.872\n",
      "Epoch: 24/30..  Training Loss: 0.349..  Test Loss: 0.374..  Test Accuracy: 0.871\n",
      "Epoch: 25/30..  Training Loss: 0.350..  Test Loss: 0.376..  Test Accuracy: 0.872\n",
      "Epoch: 26/30..  Training Loss: 0.342..  Test Loss: 0.374..  Test Accuracy: 0.865\n",
      "Epoch: 27/30..  Training Loss: 0.345..  Test Loss: 0.370..  Test Accuracy: 0.873\n",
      "Epoch: 28/30..  Training Loss: 0.352..  Test Loss: 0.385..  Test Accuracy: 0.870\n",
      "Epoch: 29/30..  Training Loss: 0.346..  Test Loss: 0.371..  Test Accuracy: 0.873\n",
      "Epoch: 30/30..  Training Loss: 0.341..  Test Loss: 0.375..  Test Accuracy: 0.874\n"
     ]
    },
    {
     "data": {
      "text/plain": [
       "<matplotlib.legend.Legend at 0x7f4fcf207310>"
      ]
     },
     "execution_count": 20,
     "metadata": {},
     "output_type": "execute_result"
    },
    {
     "data": {
      "image/png": "[encoded data removed]",
      "text/plain": [
       "<Figure size 432x288 with 1 Axes>"
      ]
     },
     "metadata": {
      "image/png": {
       "height": 248,
       "width": 380
      },
      "needs_background": "light"
     },
     "output_type": "display_data"
    }
   ],
   "source": [
    "## TODO: Train your model with dropout, and monitor the training progress with the validation loss and accuracy\n",
    "model = Classifier()\n",
    "criterion = nn.NLLLoss()\n",
    "optimizer = optim.Adam(model.parameters(), lr=0.003)\n",
    "\n",
    "epochs = 30\n",
    "steps = 0\n",
    "\n",
    "model.to(cuda)\n",
    "\n",
    "train_losses, test_losses = [], []\n",
    "for e in range(epochs):\n",
    "    running_loss = 0\n",
    "    for images, labels in trainloader:\n",
    "        \n",
    "        images, labels = images.to(cuda), labels.to(cuda)\n",
    "        \n",
    "        optimizer.zero_grad()\n",
    "        \n",
    "        log_ps = model(images)\n",
    "        loss = criterion(log_ps, labels)\n",
    "        loss.backward()\n",
    "        optimizer.step()\n",
    "        \n",
    "        running_loss += loss.item()\n",
    "        \n",
    "    else:\n",
    "        test_loss = 0\n",
    "        accuracy = 0\n",
    "        \n",
    "        # Turn off gradients for validation, saves memory and computations\n",
    "        with torch.no_grad():\n",
    "            model.eval()\n",
    "            \n",
    "            for images, labels in testloader:\n",
    "                images, labels = images.to(cuda), labels.to(cuda)\n",
    "                \n",
    "                log_ps = model(images)\n",
    "                test_loss += criterion(log_ps, labels)\n",
    "                \n",
    "                ps = torch.exp(log_ps)\n",
    "                top_p, top_class = ps.topk(1, dim=1)\n",
    "                equals = top_class == labels.view(*top_class.shape)\n",
    "                accuracy += torch.mean(equals.type(torch.FloatTensor))\n",
    "                \n",
    "        model.train()\n",
    "        \n",
    "        train_losses.append(running_loss/len(trainloader))\n",
    "        test_losses.append(test_loss/len(testloader))\n",
    "\n",
    "        print(\"Epoch: {}/{}.. \".format(e+1, epochs),\n",
    "              \"Training Loss: {:.3f}.. \".format(running_loss/len(trainloader)),\n",
    "              \"Test Loss: {:.3f}.. \".format(test_loss/len(testloader)),\n",
    "              \"Test Accuracy: {:.3f}\".format(accuracy/len(testloader)))\n",
    "        \n",
    "plt.plot(train_losses, label='Training loss')\n",
    "plt.plot(test_losses, label='Validation loss')\n",
    "plt.legend(frameon=False)"
   ]
  },
  {
   "cell_type": "markdown",
   "metadata": {},
   "source": [
    "## Inference\n",
    "\n",
    "Now that the model is trained, we can use it for inference. We've done this before, but now we need to remember to set the model in inference mode with `model.eval()`. You'll also want to turn off autograd with the `torch.no_grad()` context."
   ]
  },
  {
   "cell_type": "code",
   "execution_count": 26,
   "metadata": {},
   "outputs": [
    {
     "data": {
      "image/png": "[encoded data removed]",
      "text/plain": [
       "<Figure size 432x648 with 2 Axes>"
      ]
     },
     "metadata": {
      "image/png": {
       "height": 216,
       "width": 424
      },
      "needs_background": "light"
     },
     "output_type": "display_data"
    }
   ],
   "source": [
    "# Import helper module (should be in the repo)\n",
    "import helper\n",
    "\n",
    "# Test out your network!\n",
    "\n",
    "model.to('cpu').eval()\n",
    "\n",
    "dataiter = iter(testloader)\n",
    "images, labels = dataiter.next()\n",
    "img = images[0]\n",
    "# Convert 2D image to 1D vector\n",
    "img = img.view(1, 784)\n",
    "\n",
    "# Calculate the class probabilities (softmax) for img\n",
    "with torch.no_grad():\n",
    "    output = model.forward(img)\n",
    "\n",
    "ps = torch.exp(output)\n",
    "\n",
    "# Plot the image and probabilities\n",
    "helper.view_classify(img.view(1, 28, 28), ps, version='Fashion')"
   ]
  },
  {
   "cell_type": "code",
   "execution_count": 28,
   "metadata": {},
   "outputs": [
    {
     "data": {
      "text/plain": [
       "OrderedDict([('fc1.weight',\n",
       "              tensor([[0.1658, 0.1691, 0.1674,  ..., 0.0991, 0.0969, 0.2154],\n",
       "                      [0.0259, 0.0085, 0.0555,  ..., 0.0296, 0.0560, 0.0298],\n",
       "                      [0.2472, 0.2607, 0.2593,  ..., 0.1734, 0.2357, 0.2740],\n",
       "                      ...,\n",
       "                      [0.2309, 0.2864, 0.4114,  ..., 0.5295, 0.2457, 0.2509],\n",
       "                      [0.2445, 0.2256, 0.2038,  ..., 0.1774, 0.2408, 0.1980],\n",
       "                      [0.1375, 0.1788, 0.1436,  ..., 0.1277, 0.1776, 0.1609]])),\n",
       "             ('fc1.bias',\n",
       "              tensor([-0.1945, -0.0460, -0.2457, -0.1218, -0.1491, -0.0859, -0.0857, -0.4146,\n",
       "                      -0.4495, -0.1396, -0.1854, -0.1659, -0.3347,  0.3508, -0.2206, -0.2738,\n",
       "                      -0.2368, -0.2914, -0.2997, -0.1678, -0.1906, -0.5367, -0.0263, -0.2234,\n",
       "                      -0.0126, -0.2051, -0.4281, -0.2821, -0.1528,  0.0058, -0.3546, -0.2224,\n",
       "                      -0.0773, -0.2014,  0.3239, -0.2870, -0.1079, -0.0834, -0.1941, -0.2204,\n",
       "                      -0.0337, -0.1360,  0.1773, -0.3764, -0.0646, -0.2140, -0.2595, -0.2738,\n",
       "                      -0.2619, -0.0550, -0.3380, -0.1898, -0.1306, -0.1503, -0.1569, -0.1261,\n",
       "                      -0.1945, -0.1583, -0.4629, -0.1954, -0.1735,  0.0292, -0.0936, -0.0597,\n",
       "                      -0.1264, -0.1632, -0.2334, -0.0834, -0.0195, -0.4254, -0.2225,  0.0073,\n",
       "                      -0.4460, -0.3964, -0.1205, -0.2467, -0.2128, -0.2479, -0.0709, -0.0736,\n",
       "                      -0.1385, -0.3018, -0.0631, -0.1491, -0.1091, -0.0847, -0.0812, -0.3048,\n",
       "                      -0.2344, -0.0955, -0.2048, -0.1569, -0.0199, -0.3766, -0.2747, -0.3329,\n",
       "                      -0.0992, -0.0931, -0.0730, -0.0398, -0.0467, -0.3096, -0.2710, -0.2364,\n",
       "                      -0.1804, -0.0144, -0.1649, -0.1100, -0.1357, -0.2445, -0.4188, -0.4617,\n",
       "                      -0.3588, -0.2687, -0.2305, -0.4686, -0.0531, -0.1500, -0.2266, -0.0927,\n",
       "                      -0.2837, -0.3274, -0.4191, -0.3481, -0.2949, -0.1555, -0.0518, -0.3439,\n",
       "                      -0.3402, -0.2527, -0.4459, -0.1719, -0.2761, -0.1406, -0.3278, -0.1243,\n",
       "                      -0.0578, -0.1626, -0.4478, -0.2041, -0.0793, -0.3514,  0.0092,  0.0436,\n",
       "                      -0.2282, -0.2421, -0.0175, -0.2756, -0.1948, -0.0500, -0.0169, -0.3438,\n",
       "                      -0.2543,  0.0620, -0.0706, -0.3811, -0.0185, -0.1075, -0.0748, -0.1518,\n",
       "                      -0.2491, -0.3921, -0.4380, -0.0693, -0.2161, -0.0283, -0.0730, -0.1209,\n",
       "                      -0.2735, -0.1169, -0.2542,  0.1109, -0.2663, -0.3147, -0.0084, -0.1499,\n",
       "                       0.1509, -0.1658, -0.1188, -0.3526, -0.2807, -0.1501, -0.3112, -0.1033,\n",
       "                      -0.1913, -0.1466, -0.3164, -0.1246, -0.4058, -0.2436, -0.1064, -0.0356,\n",
       "                      -0.1175, -0.0475, -0.2979, -0.2183, -0.2094,  0.0205, -0.2057, -0.2379,\n",
       "                      -0.2306, -0.1172, -0.3663, -0.1248, -0.0448, -0.1430, -0.0893, -0.1431,\n",
       "                      -0.2918, -0.3331, -0.2533, -0.1469, -0.1320, -0.4704, -0.3144, -0.0352,\n",
       "                      -0.2289, -0.2503, -0.0109, -0.2231, -0.1189, -0.1184, -0.4269, -0.2908,\n",
       "                      -0.2320, -0.1759, -0.0420, -0.1306, -0.0571, -0.2948,  0.0035, -0.3805,\n",
       "                      -0.0813, -0.3136, -0.0787, -0.0142, -0.5112, -0.3178, -0.2783, -0.3589,\n",
       "                      -0.0843, -0.0816, -0.0450, -0.2861, -0.0259, -0.1900, -0.0391, -0.2813,\n",
       "                      -0.1553, -0.1235, -0.4189,  0.3269, -0.1856, -0.2309, -0.2152, -0.1696])),\n",
       "             ('fc2.weight',\n",
       "              tensor([[-0.8617, -0.0490,  0.0208,  ..., -0.5125,  0.1117,  0.0102],\n",
       "                      [-0.0724,  0.0242,  0.0657,  ...,  0.9107,  0.1756, -0.1268],\n",
       "                      [ 0.0016,  0.0175, -0.2185,  ...,  0.7088, -0.0655, -0.0316],\n",
       "                      ...,\n",
       "                      [-0.0201,  0.0136,  0.0429,  ..., -0.1114, -0.0364,  0.0475],\n",
       "                      [-0.3988,  0.0530, -0.1305,  ...,  0.0431, -0.0530,  0.4061],\n",
       "                      [-0.9843,  0.0511, -0.1642,  ..., -0.1490, -0.0110, -0.1342]])),\n",
       "             ('fc2.bias',\n",
       "              tensor([ 0.1937, -0.9319, -0.3341, -0.2382, -0.4842, -0.0116,  1.1925, -0.2720,\n",
       "                      -0.9110, -1.1089, -0.5900,  0.5022, -0.8482, -0.1952, -0.1817, -0.5696,\n",
       "                      -0.9336, -0.2549, -0.9243, -0.1016, -0.3443,  0.5584, -0.9123, -0.2276,\n",
       "                      -1.2824,  0.1209,  1.0768, -1.3758,  0.3861, -0.5732,  0.2751, -0.7571,\n",
       "                      -1.2311, -1.8512,  1.2122, -0.2403, -0.0554,  1.0048, -0.0789,  1.3820,\n",
       "                       0.5255, -1.4772, -0.2722, -0.8981,  0.0590,  0.4316,  0.0170, -2.1918,\n",
       "                      -1.9460, -0.2127, -0.7648, -0.8745, -0.7134, -0.1446, -1.1634,  0.3339,\n",
       "                      -0.6126,  1.8104, -0.6248, -0.0437,  1.7191,  0.7812,  0.9102, -0.2972,\n",
       "                       0.5182,  0.6548,  0.1120,  0.3306, -0.0154,  0.1733,  0.6646,  0.3300,\n",
       "                       0.1740, -0.5706, -0.1359,  0.4221, -1.1286,  0.9214, -0.7258,  1.1187,\n",
       "                      -0.2810, -0.2780,  0.5745, -1.8581, -1.0609,  1.0779,  0.1231,  1.5153,\n",
       "                      -0.6363, -0.4005, -0.3695, -0.2142, -0.4929,  0.2028, -1.4874, -1.1423,\n",
       "                      -2.0350, -0.6276, -0.0550, -0.4215, -0.8641, -0.1571, -0.0639, -0.1724,\n",
       "                      -1.4398, -0.6085, -1.5398,  0.3293, -1.0461,  0.0236, -0.9548,  0.5276,\n",
       "                      -0.4460, -0.3278,  0.6049, -0.4511, -1.3808,  0.4264, -1.2560, -0.9791,\n",
       "                       0.1396, -0.0376, -0.5033,  0.1659, -0.2720,  1.0269, -1.1953, -1.1395])),\n",
       "             ('fc3.weight',\n",
       "              tensor([[-0.5178, -0.5592, -0.6612,  ..., -0.3329, -0.5335,  0.1656],\n",
       "                      [-0.5015,  0.0091,  0.0474,  ...,  0.1761, -0.0535,  0.1940],\n",
       "                      [-0.0918, -0.1771, -0.0141,  ..., -0.8332,  0.1327, -0.2236],\n",
       "                      ...,\n",
       "                      [-0.6116, -0.6116,  0.0115,  ..., -0.2927, -0.0571,  0.1744],\n",
       "                      [-0.0442, -0.1500,  0.0685,  ..., -0.6522,  0.0267, -0.2606],\n",
       "                      [-0.0654, -0.0577,  0.0067,  ..., -0.0852,  0.1211,  0.2685]])),\n",
       "             ('fc3.bias',\n",
       "              tensor([ 0.9236,  0.9034,  1.0997,  1.0023,  0.5754,  0.7642,  0.9772,  0.8349,\n",
       "                       0.6107,  1.0636,  0.7048,  1.4037,  0.8238,  1.0278,  1.2739,  1.3523,\n",
       "                       0.1550,  1.0529,  0.6687,  0.8638, -1.8222,  1.5010,  0.5976,  1.0616,\n",
       "                       0.2982, -1.5134,  0.4668,  0.9185, -0.1473,  0.7937, -2.1244,  0.2035,\n",
       "                       0.2864,  1.3815,  1.4241,  1.3355,  0.9723, -1.9958,  1.1879, -1.5664,\n",
       "                       0.8483,  0.7033,  1.0417,  0.6286,  1.0191,  0.3967,  1.3854, -1.2466,\n",
       "                      -1.5980,  0.8651,  0.9892,  1.4685,  0.6069,  1.2659,  0.8095,  1.3131,\n",
       "                       0.2372,  0.3513,  0.3119,  1.2616,  1.1778, -1.3024,  1.3590,  1.2738])),\n",
       "             ('fc4.weight',\n",
       "              tensor([[-2.0961e-01,  9.5900e-02, -3.8169e-01,  1.5030e-01, -4.3638e-02,\n",
       "                        1.0949e-01, -6.7198e-02, -9.2788e-02, -5.9778e-02,  6.5341e-02,\n",
       "                        7.9631e-02, -2.7498e-02, -7.6069e-02, -1.3594e-01,  1.5053e-02,\n",
       "                       -5.7491e-01, -7.4344e-02,  1.2415e-01,  2.9450e-02, -1.7415e-02,\n",
       "                       -3.0061e-01, -4.8189e-03, -2.0554e-01, -1.7545e-01, -1.7193e-01,\n",
       "                       -2.8883e-01,  1.0442e-01, -9.1346e-02,  1.3766e-02, -2.1525e-01,\n",
       "                       -4.0563e-01, -9.4568e-02, -8.2848e-02,  8.2952e-02,  2.9496e-02,\n",
       "                        7.8586e-02,  1.1459e-01, -2.4509e-01, -9.1804e-02,  1.3305e-02,\n",
       "                       -2.0567e-01, -1.4522e-01,  4.7775e-02,  5.4808e-02,  3.7258e-02,\n",
       "                        2.5801e-02, -5.4248e-02, -8.5678e-02, -9.7344e-02, -4.0566e-01,\n",
       "                       -1.2708e-01, -3.8702e-02,  5.6312e-02, -5.5980e-02, -8.2539e-02,\n",
       "                        7.4190e-02, -6.5744e-02, -5.1775e-01, -1.9011e-01, -9.6444e-02,\n",
       "                        8.4185e-02, -2.8211e-01, -7.1326e-01, -3.7242e-02],\n",
       "                      [-3.1147e-01,  3.5639e-02, -1.6312e-01, -2.3221e-01, -2.1426e-01,\n",
       "                        1.4285e-01,  7.1960e-02, -2.8712e-01,  7.5305e-02,  8.3031e-02,\n",
       "                        4.8063e-02,  1.1107e-01, -1.3995e-01, -2.7218e-01, -3.2096e-01,\n",
       "                       -4.8926e-01, -4.8494e-01, -7.5820e-02, -2.9290e-01, -1.0446e-01,\n",
       "                       -5.7263e-01,  7.3780e-02, -2.7925e-01, -2.1517e-01, -2.1556e-01,\n",
       "                       -2.9204e-01,  3.7208e-02, -9.6762e-02,  1.0692e-01, -2.6634e-02,\n",
       "                       -6.6059e-01, -2.0877e-02, -2.4059e-01, -7.2076e-02,  8.2008e-02,\n",
       "                       -1.4902e-01,  1.2314e-01, -1.6905e-01,  3.0815e-02, -3.9391e-01,\n",
       "                       -1.4857e-01, -4.8133e-01, -8.9885e-02,  1.1889e-01,  3.3790e-02,\n",
       "                        1.5883e-01, -2.9105e-02, -4.7562e-03, -5.4548e-02, -3.7325e-01,\n",
       "                       -1.6835e-01,  1.7170e-02, -2.3292e-01, -6.2780e-02, -1.8134e-01,\n",
       "                       -8.2883e-02, -3.6559e-01, -3.1496e-01, -8.8875e-02,  1.1012e-02,\n",
       "                       -2.1080e-01, -1.2353e-01, -5.4704e-01,  2.7665e-02],\n",
       "                      [ 8.0570e-02,  5.5607e-02, -3.1821e-01,  1.3830e-01,  3.6145e-02,\n",
       "                       -1.2298e-01,  1.1213e-01, -4.4488e-02, -7.0016e-03, -1.2082e-01,\n",
       "                       -4.5746e-02, -8.6838e-02, -9.4392e-02,  3.9188e-02,  4.3179e-02,\n",
       "                       -5.3471e-01, -1.6175e-01, -8.8643e-02, -2.0363e-01,  7.6184e-02,\n",
       "                       -4.4187e-01,  9.9388e-02,  1.4449e-02, -2.9023e-01, -2.7552e-01,\n",
       "                       -1.6662e-01,  4.1265e-02,  3.1308e-02,  5.7642e-03, -3.3129e-01,\n",
       "                       -4.3057e-01, -1.7064e-01, -1.1724e-01,  8.5568e-02, -3.1692e-01,\n",
       "                       -6.1410e-02, -1.1587e-01, -3.2606e-01, -7.0471e-02, -2.8357e-02,\n",
       "                        9.1143e-02, -3.9297e-01, -1.0036e-01,  1.2362e-01, -7.0057e-03,\n",
       "                       -8.9973e-02, -5.8358e-02, -5.1854e-02, -1.1173e-01, -4.2260e-01,\n",
       "                        1.3552e-01,  7.6340e-02, -2.1205e-03, -7.1890e-02, -2.7373e-02,\n",
       "                       -1.7048e-01, -1.8064e-01, -4.3897e-01, -2.1426e-01,  2.9041e-02,\n",
       "                       -7.0678e-03, -1.6898e-01, -7.6571e-01, -1.8944e-02],\n",
       "                      [ 3.9419e-02,  1.0646e-01, -4.1126e-01, -1.3312e-01, -1.2481e-01,\n",
       "                        1.4471e-01,  2.1034e-02,  4.6650e-03,  4.2402e-02, -4.3640e-02,\n",
       "                        9.5821e-02,  1.0022e-01, -2.8329e-03, -1.2400e-01, -1.6901e-01,\n",
       "                       -5.5904e-01, -2.3643e-01,  4.5032e-02, -2.1503e-01, -1.0790e-01,\n",
       "                       -2.2344e-01,  1.0576e-01, -4.1451e-01, -1.5842e-01, -1.4918e-01,\n",
       "                       -1.5233e-01,  9.1694e-02, -8.1491e-02, -4.4440e-02, -3.6873e-01,\n",
       "                       -3.6746e-01, -1.1495e-01, -2.1177e-01, -8.7755e-02,  7.7417e-02,\n",
       "                        3.8372e-02,  4.8115e-02, -1.7553e-01, -7.6538e-02, -5.1756e-01,\n",
       "                       -5.9716e-01, -3.7396e-01, -1.2610e-01, -6.2122e-02,  1.0100e-01,\n",
       "                        4.8858e-02, -7.8787e-02, -1.5455e-02, -1.6310e-01, -4.2871e-01,\n",
       "                       -1.3920e-01, -1.0943e-01, -3.9183e-03,  5.1816e-02,  5.9991e-03,\n",
       "                       -1.7085e-01, -1.2279e-01, -4.5261e-01, -8.2101e-02, -2.1284e-01,\n",
       "                        3.6757e-02, -1.3456e-01, -7.4563e-01,  8.5964e-02],\n",
       "                      [ 1.2663e-01, -1.7852e-01, -2.3428e-01,  5.4319e-02, -2.2303e-02,\n",
       "                       -1.5765e-01,  5.1369e-02,  5.5614e-03,  7.5795e-02, -1.0817e-01,\n",
       "                        2.8615e-02, -5.9168e-03, -8.4885e-03,  5.4434e-02, -1.2654e-01,\n",
       "                       -4.7328e-01, -2.9824e-01, -2.2637e-02, -2.7591e-01,  6.7755e-02,\n",
       "                       -3.2187e-01, -3.5967e-02,  9.5152e-02, -3.0564e-01, -2.3606e-01,\n",
       "                       -2.9429e-01,  1.7747e-02,  1.8144e-02,  2.6863e-02, -3.2290e-01,\n",
       "                       -5.2623e-01, -1.5964e-01, -1.9818e-01, -3.4568e-02, -2.2255e-01,\n",
       "                       -1.2923e-01, -1.4268e-01, -2.5861e-01, -1.4575e-02, -2.6911e-01,\n",
       "                        8.2104e-02, -3.2281e-01,  6.3771e-03,  8.0239e-02,  1.4122e-01,\n",
       "                        6.3874e-02,  3.8583e-02, -9.1924e-02, -1.0237e-01, -5.2445e-01,\n",
       "                        1.2166e-01,  1.1250e-01,  5.4573e-02, -1.4472e-01,  8.7146e-02,\n",
       "                       -2.7475e-01, -3.4144e-02, -6.1550e-01, -1.6712e-01, -6.7016e-03,\n",
       "                       -1.2294e-01, -1.7335e-01, -8.4177e-01,  1.2879e-01],\n",
       "                      [-4.2543e-01, -8.2511e-02,  4.7610e-02, -5.6019e-01,  6.0943e-02,\n",
       "                       -3.6482e-01, -3.0908e-01,  6.9926e-02, -4.0496e-01,  1.1662e-01,\n",
       "                       -1.8929e-01, -1.0664e-01, -7.8267e-01, -8.8891e-02,  6.0099e-02,\n",
       "                        8.7821e-04,  1.2787e-01, -2.2185e-01,  1.1593e-01, -2.0528e-01,\n",
       "                       -8.4140e-02, -2.4912e-01, -1.9402e-01, -2.5562e-02,  8.0983e-02,\n",
       "                       -1.5943e-01, -5.4702e-01,  1.2278e-01, -5.0225e-01,  1.4172e-01,\n",
       "                       -1.4004e-01, -4.9938e-02, -2.4379e-02, -5.1261e-02, -7.1471e-02,\n",
       "                       -8.7455e-02, -2.7848e-01, -1.1963e-01,  1.2614e-01, -2.7646e-01,\n",
       "                       -9.3602e-02,  5.0476e-02, -4.1117e-01, -5.5797e-01, -3.1324e-01,\n",
       "                       -6.6141e-02,  6.1663e-02, -2.8259e-01, -2.0340e-01,  4.8885e-02,\n",
       "                       -4.2940e-01, -2.0463e-01, -3.9370e-01,  1.0207e-01,  3.3681e-02,\n",
       "                       -1.1870e-02, -4.7711e-02, -2.5317e-01,  8.8955e-02,  8.2828e-02,\n",
       "                       -2.6685e-01, -2.3695e-01, -1.2010e-01, -8.0877e-02],\n",
       "                      [ 1.1825e-01,  6.8510e-02, -4.3088e-01,  1.0055e-01,  4.8123e-02,\n",
       "                        9.5686e-02,  8.9127e-02, -9.7342e-02, -3.4436e-02,  1.5318e-02,\n",
       "                        6.4041e-03, -2.2191e-02, -1.4367e-02, -5.0565e-02, -2.7332e-02,\n",
       "                       -5.5196e-01, -1.5285e-01,  1.1627e-01, -5.4387e-02,  9.3125e-02,\n",
       "                       -2.3348e-01,  1.2628e-02,  6.3629e-02, -2.7504e-01, -3.1120e-01,\n",
       "                       -2.6533e-01, -6.1475e-02, -7.0994e-02, -7.7708e-02, -3.6249e-01,\n",
       "                       -3.2363e-01, -1.3328e-01, -1.2391e-01,  1.2632e-01, -4.1523e-02,\n",
       "                        1.9916e-02,  4.8082e-02, -2.0031e-01, -1.2049e-01, -1.4465e-01,\n",
       "                        2.7998e-02, -3.3944e-01,  4.3688e-02, -3.1660e-02,  7.9369e-02,\n",
       "                        7.2627e-02,  1.6521e-02, -5.9557e-02, -3.3793e-02, -4.4996e-01,\n",
       "                        3.2050e-02,  3.1744e-03,  1.0268e-01, -9.7943e-02,  8.5421e-02,\n",
       "                        2.2964e-02, -3.8464e-02, -5.7211e-01, -4.0730e-01, -5.4294e-02,\n",
       "                        6.5565e-02, -2.1583e-01, -9.1523e-01,  3.9352e-02],\n",
       "                      [-5.4041e-01, -4.2591e-01,  1.3440e-01, -6.8876e-01,  1.0237e-02,\n",
       "                       -6.5653e-01, -4.1389e-01,  6.4105e-02, -4.6492e-01,  3.8646e-02,\n",
       "                       -1.3483e-01, -2.1159e-01, -7.1475e-01, -4.1173e-02, -5.3204e-02,\n",
       "                       -1.8836e-02,  3.4172e-02, -3.1911e-01,  4.3237e-02, -2.8263e-01,\n",
       "                       -1.2305e-01, -4.4649e-01, -2.6246e-01,  1.1688e-01, -2.7480e-02,\n",
       "                       -2.1181e-01, -9.1677e-01,  2.8409e-02, -3.6003e-01,  3.2771e-02,\n",
       "                       -1.2423e-01, -2.0774e-02,  3.2253e-02, -1.8350e-01,  1.3176e-01,\n",
       "                        7.7014e-03, -6.0083e-01,  7.6252e-03,  4.0719e-02, -9.3221e-02,\n",
       "                       -5.4856e-02,  1.2742e-01, -6.6463e-01, -6.7461e-01, -3.3010e-01,\n",
       "                       -1.8611e-01, -2.9049e-02, -4.8171e-02, -4.8551e-01,  1.0586e-01,\n",
       "                       -6.0311e-01, -6.0458e-02, -1.0656e+00,  1.0016e-02,  1.9358e-02,\n",
       "                       -2.0629e-01,  5.4298e-02, -1.7581e-01,  8.0239e-02, -7.9371e-03,\n",
       "                       -3.2614e-01, -2.4717e-01,  3.1416e-02,  2.2910e-03],\n",
       "                      [-1.1464e-01, -1.0630e-01, -1.0663e-01, -1.5345e-01, -2.0133e-01,\n",
       "                       -1.9059e-01, -6.5548e-02, -1.6033e-01, -7.5048e-02,  6.9804e-02,\n",
       "                        1.0863e-01,  8.5376e-02, -1.8372e-01, -4.4215e-02, -8.5163e-02,\n",
       "                       -3.4270e-01,  3.0283e-02, -1.4190e-01,  6.8210e-02,  5.8191e-02,\n",
       "                       -6.1822e-01,  1.4834e-02, -2.0561e-01, -3.4782e-02, -1.7226e-01,\n",
       "                       -4.6056e-01, -1.7864e-01, -4.2400e-02, -1.2923e-01, -1.2695e-01,\n",
       "                       -5.5269e-01,  3.9500e-02, -1.1905e-01,  1.0859e-01, -2.3557e-01,\n",
       "                        1.0699e-01, -6.0858e-02, -1.0768e-01, -1.0673e-01, -1.6009e-01,\n",
       "                       -3.2572e-01, -5.8222e-02, -7.4959e-02, -1.6896e-01, -3.4919e-02,\n",
       "                       -1.5177e-01,  1.0873e-01, -2.2366e-02, -6.0709e-01, -9.5833e-02,\n",
       "                       -5.9085e-02,  3.2269e-02, -1.2428e-01,  3.3448e-02, -1.3064e-01,\n",
       "                       -1.2108e-01,  4.7894e-02, -3.5485e-01, -3.9215e-01, -2.1809e-01,\n",
       "                       -2.3628e-01, -2.1389e-01, -5.6904e-01,  7.6481e-04],\n",
       "                      [-5.5319e-01, -4.6800e-01,  1.2997e-01, -4.9124e-01,  2.2021e-02,\n",
       "                       -5.3655e-01, -6.1137e-01,  1.0247e-01, -3.8981e-01,  3.8554e-02,\n",
       "                       -4.0311e-01, -2.2905e-01, -8.1550e-01, -1.0032e-01, -1.1879e-01,\n",
       "                       -1.3024e-01,  1.9649e-02, -8.3899e-01, -2.7919e-04, -5.4902e-01,\n",
       "                       -1.5005e-01, -3.2819e-01, -5.4564e-02,  9.2323e-02,  1.3586e-02,\n",
       "                       -3.5950e-01, -5.9306e-01,  1.4771e-01, -2.9339e-01,  1.3890e-01,\n",
       "                       -1.7291e-01, -3.7528e-02, -1.0935e-01, -1.6680e-01,  1.1246e-01,\n",
       "                       -1.5248e-01, -4.6957e-01, -6.1353e-02,  8.5817e-02, -5.1064e-01,\n",
       "                        3.1074e-02, -6.3365e-02, -5.0323e-01, -5.2753e-01, -3.0358e-01,\n",
       "                       -3.4868e-01,  3.4223e-02, -2.2553e-01, -4.1800e-01,  1.7405e-02,\n",
       "                       -5.9736e-01, -2.0206e-01, -7.4040e-01,  4.2383e-02, -8.6250e-02,\n",
       "                       -3.3133e-02,  6.5009e-02, -2.4283e-01, -6.8293e-02,  1.0124e-01,\n",
       "                       -3.7127e-01, -6.8124e-01,  3.1092e-02, -1.1563e-01]])),\n",
       "             ('fc4.bias',\n",
       "              tensor([-0.2335, -1.4163,  0.2056,  0.3969,  0.2146, -0.3911,  0.0023,  0.5699,\n",
       "                       0.1295, -0.5247]))])"
      ]
     },
     "execution_count": 28,
     "metadata": {},
     "output_type": "execute_result"
    }
   ],
   "source": [
    "model.state_dict()\n",
    "model.load_state_dict"
   ]
  },
  {
   "cell_type": "markdown",
   "metadata": {},
   "source": [
    "## Next Up!\n",
    "\n",
    "In the next part, I'll show you how to save your trained models. In general, you won't want to train a model everytime you need it. Instead, you'll train once, save it, then load the model when you want to train more or use if for inference."
   ]
  }
 ],
 "metadata": {
  "kernelspec": {
   "display_name": "Python 3",
   "language": "python",
   "name": "python3"
  },
  "language_info": {
   "codemirror_mode": {
    "name": "ipython",
    "version": 3
   },
   "file_extension": ".py",
   "mimetype": "text/x-python",
   "name": "python",
   "nbconvert_exporter": "python",
   "pygments_lexer": "ipython3",
   "version": "3.9.1"
  }
 },
 "nbformat": 4,
 "nbformat_minor": 4
}

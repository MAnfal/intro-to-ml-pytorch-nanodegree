{
 "cells": [
  {
   "cell_type": "code",
   "execution_count": 11,
   "metadata": {},
   "outputs": [
    {
     "name": "stdout",
     "output_type": "stream",
     "text": [
      "Once deleted, variables cannot be recovered. Proceed (y/[n])? y\n"
     ]
    },
    {
     "data": {
      "text/plain": [
       "-1.1"
      ]
     },
     "execution_count": 11,
     "metadata": {},
     "output_type": "execute_result"
    }
   ],
   "source": [
    "%reset\n",
    "\n",
    "# Weighting the models 2, find the weights of the 3 models -> always true or acc 1, 50% true or acc .5 and always lies or acc 0\n",
    "\n",
    "import numpy as np\n",
    "\n",
    "always_true_acc = 1\n",
    "always_lies_acc = 0\n",
    "tell_truth_half_the_time = .5\n",
    "\n",
    "# logic for the params is in https://www.youtube.com/watch?v=fecp5nmetws&feature=emb_logo\n",
    "def calculate_weight(correctly_classified_points, incorrectly_classified_points):\n",
    "    return np.log(correctly_classified_points / incorrectly_classified_points)\n",
    "    \n",
    "    \n",
    "print(f\"Weight of model always telling the truth is: {calculate_weight(always_true_acc)}\")\n",
    "\n",
    "print(f\"Weight of model always lying is: {calculate_weight(always_lies_acc)}\")\n",
    "\n",
    "print(f\"Weight of model telling the truth half the time is: {calculate_weight(tell_truth_half_the_time)}\")"
   ]
  },
  {
   "cell_type": "code",
   "execution_count": null,
   "metadata": {},
   "outputs": [],
   "source": []
  }
 ],
 "metadata": {
  "kernelspec": {
   "display_name": "Python 3",
   "language": "python",
   "name": "python3"
  },
  "language_info": {
   "codemirror_mode": {
    "name": "ipython",
    "version": 3
   },
   "file_extension": ".py",
   "mimetype": "text/x-python",
   "name": "python",
   "nbconvert_exporter": "python",
   "pygments_lexer": "ipython3",
   "version": "3.9.1"
  }
 },
 "nbformat": 4,
 "nbformat_minor": 4
}

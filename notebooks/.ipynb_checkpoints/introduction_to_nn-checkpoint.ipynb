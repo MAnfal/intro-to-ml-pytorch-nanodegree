{
 "cells": [
  {
   "cell_type": "code",
   "execution_count": 16,
   "metadata": {},
   "outputs": [
    {
     "name": "stdout",
     "output_type": "stream",
     "text": [
      "The points: (1, 1), gave a score of 0.5\n",
      "The points: (2, 4), gave a score of 1.0\n",
      "The points: (5, -5), gave a score of 0.0\n",
      "The points: (-4, 5), gave a score of 0.5\n"
     ]
    }
   ],
   "source": [
    "# Discrete vs Continuous, Quiz\n",
    "\n",
    "'''\n",
    "Quiz Statement\n",
    "\n",
    "The sigmoid function is defined as sigmoid(x) = 1/(1+e-x). \n",
    "If the score is defined by 4x1 + 5x2 - 9 = score, \n",
    "then which of the following points has exactly a 50% probability of being blue\n",
    "or red? (Choose all that are correct.)\n",
    "'''\n",
    "import math\n",
    "\n",
    "\n",
    "def get_score(x1, x2):\n",
    "    eq_res = (4 * x1) + (5 * x2) - 9\n",
    "    \n",
    "    return round( calc_sigmooid( eq_res ), 2 )\n",
    "\n",
    "def calc_sigmooid(x):\n",
    "    return 1 / (1 + math.exp(-x))\n",
    "\n",
    "points_to_evaluate = [\n",
    "    (1, 1),\n",
    "    (2, 4),\n",
    "    (5, -5),\n",
    "    (-4, 5)\n",
    "]\n",
    "\n",
    "for points in points_to_evaluate:\n",
    "    score = get_score(points[0], points[1])\n",
    "    \n",
    "    print(f\"The points: {points}, gave a score of {score}\")"
   ]
  },
  {
   "cell_type": "code",
   "execution_count": 20,
   "metadata": {},
   "outputs": [
    {
     "name": "stdout",
     "output_type": "stream",
     "text": [
      "Sin of -2: -0.9092974268256817\n",
      "Cos of -2: -0.4161468365471424\n",
      "Exp of -2: 0.1353352832366127\n"
     ]
    }
   ],
   "source": [
    "\"\"\"\n",
    "Which of the following function turn all the negative numbers to positive numbers.\n",
    "\n",
    "1. sin\n",
    "2. cos\n",
    "3. log\n",
    "4. exp\n",
    "\"\"\"\n",
    "\n",
    "import math\n",
    "\n",
    "print(f\"Sin of -2: { math.sin(-2) }\")\n",
    "print(f\"Cos of -2: { math.cos(-2) }\")\n",
    "# print(f\"Log of -2: { math.log(-2) }\") Gives back math domain error.\n",
    "print(f\"Exp of -2: { math.exp(-2) }\")"
   ]
  },
  {
   "cell_type": "code",
   "execution_count": 29,
   "metadata": {},
   "outputs": [
    {
     "name": "stdout",
     "output_type": "stream",
     "text": [
      "My Method:[0.011656230956039607, 0.03168492079612427, 0.0861285444362687, 0.23412165725273662, 0.6364086465588308]\n",
      "\n",
      "Solution:[0.011656230956039607, 0.03168492079612427, 0.0861285444362687, 0.23412165725273662, 0.6364086465588308]\n",
      "\n",
      "Improved Solution: [0.011656230956039607, 0.03168492079612427, 0.0861285444362687, 0.23412165725273662, 0.6364086465588308]\n",
      "\n"
     ]
    }
   ],
   "source": [
    "\"\"\"\n",
    "Coding Softmax\n",
    "\"\"\"\n",
    "\n",
    "import numpy as np\n",
    "import math\n",
    "\n",
    "# My implementation\n",
    "\n",
    "# Write a function that takes as input a list of numbers, and returns\n",
    "# the list of values given by the softmax function.\n",
    "def softmax_me(L):\n",
    "    total_sum = np.sum([ math.exp(i_itm) for i_itm in L])\n",
    "    \n",
    "    return [math.exp(item) / total_sum for item in L]\n",
    "\n",
    "\n",
    "def softmax_solution(L):\n",
    "    expL = np.exp(L)\n",
    "    sumExpL = sum(expL)\n",
    "    result = []\n",
    "    for i in expL:\n",
    "        result.append(i*1.0/sumExpL)\n",
    "    return result\n",
    "\n",
    "\n",
    "def softmax_my_improved(L):\n",
    "    total_sum = np.sum(np.exp(L))\n",
    "    \n",
    "    return [np.exp(item) / total_sum for item in L]\n",
    "\n",
    "\n",
    "l = [1, 2, 3, 4, 5]\n",
    "\n",
    "print(f\"My Method:{ softmax_me(l) }\\n\")\n",
    "\n",
    "print(f\"Solution:{ softmax_solution(l) }\\n\")\n",
    "\n",
    "print(f\"Improved Solution: { softmax_my_improved(l) }\\n\")"
   ]
  },
  {
   "cell_type": "code",
   "execution_count": 32,
   "metadata": {},
   "outputs": [
    {
     "name": "stdout",
     "output_type": "stream",
     "text": [
      "Product is: 0.0084, Natural Log is: -4.779523573132869, Cross Entropy: 4.779523573132869\n"
     ]
    }
   ],
   "source": [
    "# Random practice for checking relationship between log and product.\n",
    "\n",
    "import numpy as np\n",
    "\n",
    "prod = 0.6 * 0.2 * 0.1 * 0.7\n",
    "\n",
    "log = np.log(0.6) + np.log(0.2) + np.log(0.1) + np.log(0.7)\n",
    "\n",
    "# Since the numbers we are using are between 0 and 1 and a natural log of a number\n",
    "# between 0 and 1 is -ive. We will take a -ive of the result of the natural log\n",
    "cross_entropy = ( - 1 * np.log(0.6) ) + ( - 1 * np.log(0.2) ) + ( - 1 * np.log(0.1) ) + ( - 1 * np.log(0.7) )\n",
    "\n",
    "print(f\"Product is: { prod }, Natural Log is: { log }, Cross Entropy: { cross_entropy }\")"
   ]
  },
  {
   "cell_type": "code",
   "execution_count": 6,
   "metadata": {},
   "outputs": [
    {
     "name": "stdout",
     "output_type": "stream",
     "text": [
      "0.6851790109107685\n",
      "5.115995809754082\n",
      "0.6851790109107685\n",
      "5.115995809754082\n"
     ]
    }
   ],
   "source": [
    "'''\n",
    "Quiz: Coding Cross-entropy\n",
    "Now, time to shine! Let's code the formula for cross-entropy in Python. \n",
    "As in the video, Y in the quiz is for the category, and P is the probability.\n",
    "'''\n",
    "\n",
    "'''\n",
    "Formula for cross-entropy\n",
    "\n",
    "https://youtu.be/1BnhC6e0TFw?t=274\n",
    "'''\n",
    "\n",
    "import numpy as np\n",
    "\n",
    "# Write a function that takes as input two lists Y, P,\n",
    "# and returns the float corresponding to their cross-entropy.\n",
    "def cross_entropy(Y, P):\n",
    "    calculated_values = []\n",
    "    \n",
    "    for index in range(len(Y)):\n",
    "        y_i = Y[index]\n",
    "        p_i = P[index]\n",
    "        \n",
    "        calc_val = -1 * ( ( y_i * np.log(p_i) ) + ( (1 - y_i) * np.log( 1 - p_i ) ) )\n",
    "        \n",
    "        calculated_values.append(calc_val)\n",
    "        \n",
    "    return np.sum(calculated_values)\n",
    "\n",
    "def cross_entropy_solution(Y, P):\n",
    "    Y = np.float_(Y)\n",
    "    P = np.float_(P)\n",
    "    return -np.sum(Y * np.log(P) + (1 - Y) * np.log(1 - P))\n",
    "\n",
    "print(cross_entropy([1, 1, 0], [0.8, 0.7, 0.1]))\n",
    "print(cross_entropy([0, 0, 1], [0.8, 0.7, 0.1]))\n",
    "\n",
    "print(cross_entropy_solution([1, 1, 0], [0.8, 0.7, 0.1]))\n",
    "print(cross_entropy_solution([0, 0, 1], [0.8, 0.7, 0.1]))"
   ]
  },
  {
   "cell_type": "code",
   "execution_count": null,
   "metadata": {},
   "outputs": [],
   "source": [
    "# To Do learn the maths of the derivative in gradient descent at \n",
    "# https://classroom.udacity.com/nanodegrees/nd229/parts/0f6fde1a-cbba-4bcb-a576-767b3d505544/modules/d63c7a20-7215-4ed7-9ba7-36e61786e22b/lessons/93d158ce-25e1-4fc1-a187-162982e3cef7/concepts/0d92455b-2fa0-4eb8-ae5d-07c7834b8a56"
   ]
  }
 ],
 "metadata": {
  "kernelspec": {
   "display_name": "Python 3",
   "language": "python",
   "name": "python3"
  },
  "language_info": {
   "codemirror_mode": {
    "name": "ipython",
    "version": 3
   },
   "file_extension": ".py",
   "mimetype": "text/x-python",
   "name": "python",
   "nbconvert_exporter": "python",
   "pygments_lexer": "ipython3",
   "version": "3.9.1"
  }
 },
 "nbformat": 4,
 "nbformat_minor": 4
}

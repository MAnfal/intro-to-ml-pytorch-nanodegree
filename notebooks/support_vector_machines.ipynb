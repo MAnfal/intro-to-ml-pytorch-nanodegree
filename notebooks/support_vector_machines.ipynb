{
 "cells": [
  {
   "cell_type": "code",
   "execution_count": 6,
   "metadata": {},
   "outputs": [
    {
     "name": "stdout",
     "output_type": "stream",
     "text": [
      "Once deleted, variables cannot be recovered. Proceed (y/[n])? y\n",
      "Bigger margins got w_norm: 25 and error: 0.4\n",
      "Shorter margins got w_norm: 100 and error: 0.2\n"
     ]
    }
   ],
   "source": [
    "%reset\n",
    "\n",
    "import math\n",
    "\n",
    "# Margin Error\n",
    "# Our main equation is Margin = 2 / |W| where w is the square root of sum of squares of constants of the equation\n",
    "# wx+b = 0\n",
    "# Our goal is to punish small margins more than larger margins.\n",
    "\n",
    "# For example let's calculate the margin for the point (3, 4) and (6, 8)\n",
    "\n",
    "# Case 1: (3, 4) and bias = 1 gives us the equation 3x1 + 4x2 + 1 = 0\n",
    "\n",
    "w1_norm = 3**2 + 4**2\n",
    "\n",
    "case_1_margin_error = 2 / math.sqrt(w1_norm)\n",
    "\n",
    "# Case 2: (6, 8) and bias = 2 (basically double everything of the previous equation)\n",
    "# We have 6x1 + 4x2 + 2 = 0\n",
    "\n",
    "w2_norm = 6**2 + 8**2\n",
    "\n",
    "case_2_margin_error = 2 / math.sqrt(w2_norm)\n",
    "\n",
    "# Obvious from the results that the shorter margin got punished harder. This is equivalent to L2 regularization.\n",
    "\n",
    "print(f\"Bigger margins got w_norm: {w1_norm} and error: {case_1_margin_error}\")\n",
    "\n",
    "print(f\"Shorter margins got w_norm: {w2_norm} and error: {case_2_margin_error}\")"
   ]
  },
  {
   "cell_type": "code",
   "execution_count": 22,
   "metadata": {},
   "outputs": [
    {
     "name": "stdout",
     "output_type": "stream",
     "text": [
      "Once deleted, variables cannot be recovered. Proceed (y/[n])? y\n",
      "1.0\n"
     ]
    }
   ],
   "source": [
    "%reset\n",
    "\n",
    "# Support Vector Machines in sklearn\n",
    "\n",
    "# Import statements \n",
    "from sklearn.svm import SVC\n",
    "from sklearn.metrics import accuracy_score\n",
    "import pandas as pd\n",
    "import numpy as np\n",
    "\n",
    "# Read the data.\n",
    "data = np.asarray(pd.read_csv('data/svm.csv', header=None))\n",
    "# Assign the features to the variable X, and the labels to the variable y. \n",
    "X = data[:,0:2]\n",
    "y = data[:,2]\n",
    "\n",
    "# TODO: Create the model and assign it to the variable model.\n",
    "# Find the right parameters for this model to achieve 100% accuracy on the dataset.\n",
    "model = SVC(gamma=27)\n",
    "\n",
    "# TODO: Fit the model.\n",
    "model.fit(X, y)\n",
    "\n",
    "# TODO: Make predictions. Store them in the variable y_pred.\n",
    "y_pred = model.predict(X)\n",
    "\n",
    "# TODO: Calculate the accuracy and assign it to the variable acc.\n",
    "acc = accuracy_score(y, y_pred)\n",
    "\n",
    "print(acc)"
   ]
  },
  {
   "cell_type": "code",
   "execution_count": 21,
   "metadata": {},
   "outputs": [
    {
     "name": "stdout",
     "output_type": "stream",
     "text": [
      "Once deleted, variables cannot be recovered. Proceed (y/[n])? y\n"
     ]
    },
    {
     "data": {
      "image/png": "[encoded data removed]",
      "text/plain": [
       "<Figure size 432x288 with 1 Axes>"
      ]
     },
     "metadata": {},
     "output_type": "display_data"
    }
   ],
   "source": [
    "%reset\n",
    "\n",
    "# This is the rough visualization for the problem solved above.\n",
    "\n",
    "import numpy as np\n",
    "import matplotlib.pyplot as plt\n",
    "from sklearn import svm, datasets\n",
    "import pandas as pd\n",
    "\n",
    "data = np.asarray(pd.read_csv('data/svm.csv', header=None))\n",
    "\n",
    "X = data[:,0:2]\n",
    "y = data[:,2]\n",
    "\n",
    "h = .02 \n",
    "\n",
    "rbf_svc = svm.SVC(kernel='rbf', gamma=27).fit(X, y)\n",
    "\n",
    "x_min, x_max = X[:, 0].min() - 1, X[:, 0].max() + 1\n",
    "\n",
    "y_min, y_max = X[:, 1].min() - 1, X[:, 1].max() + 1\n",
    "\n",
    "xx, yy = np.meshgrid(np.arange(x_min, x_max, h), np.arange(y_min, y_max, h))\n",
    "\n",
    "Z = rbf_svc.predict(np.c_[xx.ravel(), yy.ravel()])\n",
    "\n",
    "Z = Z.reshape(xx.shape)\n",
    "\n",
    "plt.contourf(xx, yy, Z, cmap=plt.cm.coolwarm, alpha=0.8)\n",
    "\n",
    "plt.scatter(X[:, 0], X[:, 1], c=y, cmap=plt.cm.coolwarm)\n",
    "\n",
    "plt.xlim(xx.min(), xx.max())\n",
    "\n",
    "plt.ylim(yy.min(), yy.max())\n",
    "\n",
    "plt.xticks(())\n",
    "\n",
    "plt.yticks(())\n",
    "\n",
    "plt.title('RBF Visualization')\n",
    "\n",
    "plt.show()"
   ]
  },
  {
   "cell_type": "code",
   "execution_count": null,
   "metadata": {},
   "outputs": [],
   "source": []
  }
 ],
 "metadata": {
  "kernelspec": {
   "display_name": "Python 3",
   "language": "python",
   "name": "python3"
  },
  "language_info": {
   "codemirror_mode": {
    "name": "ipython",
    "version": 3
   },
   "file_extension": ".py",
   "mimetype": "text/x-python",
   "name": "python",
   "nbconvert_exporter": "python",
   "pygments_lexer": "ipython3",
   "version": "3.9.1"
  }
 },
 "nbformat": 4,
 "nbformat_minor": 4
}

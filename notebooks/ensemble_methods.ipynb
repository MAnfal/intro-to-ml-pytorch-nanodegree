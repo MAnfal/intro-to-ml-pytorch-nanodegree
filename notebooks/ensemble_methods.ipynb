{
 "cells": [
  {
   "cell_type": "code",
   "execution_count": 17,
   "metadata": {},
   "outputs": [
    {
     "name": "stdout",
     "output_type": "stream",
     "text": [
      "Once deleted, variables cannot be recovered. Proceed (y/[n])? y\n",
      "Weight of model always telling the truth is: 1.95\n",
      "Weight of model always lying is: 0.0\n",
      "Weight of model telling the truth half the time is: -1.1\n"
     ]
    }
   ],
   "source": [
    "%reset\n",
    "\n",
    "# Weighting the models 2, find the weights of the 3 models -> always true or acc 1, 50% true or acc .5 and always lies or acc 0\n",
    "\n",
    "import numpy as np\n",
    "\n",
    "# logic for the params is in https://www.youtube.com/watch?v=fecp5nmetws&feature=emb_logo\n",
    "def calculate_weight(correctly_classified_points, incorrectly_classified_points):\n",
    "    return round(np.log(correctly_classified_points / incorrectly_classified_points), 2)\n",
    "    \n",
    "    \n",
    "print(f\"Weight of model always telling the truth is: {calculate_weight(7, 1)}\")\n",
    "\n",
    "print(f\"Weight of model always lying is: {calculate_weight(4, 4)}\")\n",
    "\n",
    "print(f\"Weight of model telling the truth half the time is: {calculate_weight(2, 6)}\")"
   ]
  },
  {
   "cell_type": "code",
   "execution_count": 18,
   "metadata": {},
   "outputs": [
    {
     "name": "stdout",
     "output_type": "stream",
     "text": [
      "Accuracy score:  0.9885139985642498\n",
      "Precision score:  0.9720670391061452\n",
      "Recall score:  0.9405405405405406\n",
      "F1 score:  0.9560439560439562\n"
     ]
    }
   ],
   "source": [
    "%reset\n",
    "\n",
    "# REFERENCE: CELL # 18\n",
    "\n",
    "# Re-running the code from the naive bayes classifier workshop we did previously\n",
    "\n",
    "# Import our libraries\n",
    "import pandas as pd\n",
    "from sklearn.model_selection import train_test_split\n",
    "from sklearn.feature_extraction.text import CountVectorizer\n",
    "from sklearn.naive_bayes import MultinomialNB\n",
    "from sklearn.metrics import accuracy_score, precision_score, recall_score, f1_score\n",
    "\n",
    "\n",
    "# Read in our dataset\n",
    "df = pd.read_table('data/sms_spam_collection',\n",
    "                   sep='\\t', \n",
    "                   header=None, \n",
    "                   names=['label', 'sms_message'])\n",
    "\n",
    "# Fix our response value\n",
    "df['label'] = df.label.map({'ham':0, 'spam':1})\n",
    "\n",
    "# Split our dataset into training and testing data\n",
    "X_train, X_test, y_train, y_test = train_test_split(df['sms_message'], \n",
    "                                                    df['label'], \n",
    "                                                    random_state=1)\n",
    "\n",
    "# Instantiate the CountVectorizer method\n",
    "count_vector = CountVectorizer()\n",
    "\n",
    "# Fit the training data and then return the matrix\n",
    "training_data = count_vector.fit_transform(X_train)\n",
    "\n",
    "# Transform testing data and return the matrix. Note we are not fitting the testing data into the CountVectorizer()\n",
    "testing_data = count_vector.transform(X_test)\n",
    "\n",
    "# Instantiate our model\n",
    "naive_bayes = MultinomialNB()\n",
    "\n",
    "# Fit our model to the training data\n",
    "naive_bayes.fit(training_data, y_train)\n",
    "\n",
    "# Predict on the test data\n",
    "predictions = naive_bayes.predict(testing_data)\n",
    "\n",
    "# Score our model\n",
    "print('Accuracy score: ', format(accuracy_score(y_test, predictions)))\n",
    "print('Precision score: ', format(precision_score(y_test, predictions)))\n",
    "print('Recall score: ', format(recall_score(y_test, predictions)))\n",
    "print('F1 score: ', format(f1_score(y_test, predictions)))"
   ]
  },
  {
   "cell_type": "code",
   "execution_count": 19,
   "metadata": {},
   "outputs": [],
   "source": [
    "# not adding a reset here since it depends on the data provided from the cell reference # 18.\n",
    "\n",
    "# REFERENCE: CELL # 19\n",
    "\n",
    "from sklearn.ensemble import AdaBoostClassifier\n",
    "from sklearn.ensemble import RandomForestClassifier\n",
    "from sklearn.ensemble import BaggingClassifier\n",
    "\n",
    "bagging_classifier = BaggingClassifier(n_estimators=200)\n",
    "random_forest_classifier = RandomForestClassifier(n_estimators=200)\n",
    "ada_boost_classifier = AdaBoostClassifier(n_estimators=300, learning_rate=0.2)"
   ]
  },
  {
   "cell_type": "code",
   "execution_count": 21,
   "metadata": {},
   "outputs": [
    {
     "name": "stdout",
     "output_type": "stream",
     "text": [
      "Done\n"
     ]
    }
   ],
   "source": [
    "# not adding a reset here since it depends on the data provided from the cell reference # 19.\n",
    "\n",
    "# REFERENCE: CELL # 20\n",
    "\n",
    "# Fit your BaggingClassifier to the training data\n",
    "bagging_classifier.fit(training_data, y_train)\n",
    "\n",
    "# Fit your RandomForestClassifier to the training data\n",
    "random_forest_classifier.fit(training_data, y_train)\n",
    "\n",
    "# Fit your AdaBoostClassifier to the training data\n",
    "ada_boost_classifier.fit(training_data, y_train)\n",
    "\n",
    "print(\"Done\")"
   ]
  },
  {
   "cell_type": "code",
   "execution_count": 22,
   "metadata": {},
   "outputs": [
    {
     "name": "stdout",
     "output_type": "stream",
     "text": [
      "Done\n"
     ]
    }
   ],
   "source": [
    "# not adding a reset here since it depends on the data provided from the cell reference # 20.\n",
    "\n",
    "# REFERENCE: CELL # 21\n",
    "\n",
    "# Predict using BaggingClassifier on the test data\n",
    "bg_clf_predict = bagging_classifier.predict(testing_data)\n",
    "\n",
    "# Predict using RandomForestClassifier on the test data\n",
    "rdm_forest_clf = random_forest_classifier.predict(testing_data)\n",
    "\n",
    "# Predict using AdaBoostClassifier on the test data\n",
    "adboost_clf = ada_boost_classifier.predict(testing_data)\n",
    "\n",
    "print(\"Done\")"
   ]
  },
  {
   "cell_type": "code",
   "execution_count": 24,
   "metadata": {},
   "outputs": [],
   "source": [
    "# not adding a reset here since it depends on the data provided from the cell reference # 21.\n",
    "\n",
    "# REFERENCE: CELL # 22\n",
    "\n",
    "def print_metrics(y_true, preds, model_name=None):\n",
    "    '''\n",
    "    INPUT:\n",
    "    y_true - the y values that are actually true in the dataset (NumPy array or pandas series)\n",
    "    preds - the predictions for those values from some model (NumPy array or pandas series)\n",
    "    model_name - (str - optional) a name associated with the model if you would like to add it to the print statements \n",
    "    \n",
    "    OUTPUT:\n",
    "    None - prints the accuracy, precision, recall, and F1 score\n",
    "    '''\n",
    "    if model_name == None:\n",
    "        print('Accuracy score: ', format(accuracy_score(y_true, preds)))\n",
    "        print('Precision score: ', format(precision_score(y_true, preds)))\n",
    "        print('Recall score: ', format(recall_score(y_true, preds)))\n",
    "        print('F1 score: ', format(f1_score(y_true, preds)))\n",
    "        print('\\n\\n')\n",
    "    \n",
    "    else:\n",
    "        print('Accuracy score for ' + model_name + ' :' , format(accuracy_score(y_true, preds)))\n",
    "        print('Precision score ' + model_name + ' :', format(precision_score(y_true, preds)))\n",
    "        print('Recall score ' + model_name + ' :', format(recall_score(y_true, preds)))\n",
    "        print('F1 score ' + model_name + ' :', format(f1_score(y_true, preds)))\n",
    "        print('\\n\\n')"
   ]
  },
  {
   "cell_type": "code",
   "execution_count": 25,
   "metadata": {},
   "outputs": [
    {
     "name": "stdout",
     "output_type": "stream",
     "text": [
      "Accuracy score for Naive Bayes : 0.9885139985642498\n",
      "Precision score Naive Bayes : 0.9720670391061452\n",
      "Recall score Naive Bayes : 0.9405405405405406\n",
      "F1 score Naive Bayes : 0.9560439560439562\n",
      "\n",
      "\n",
      "\n",
      "Accuracy score for Bagging Data Classifier : 0.9755922469490309\n",
      "Precision score Bagging Data Classifier : 0.9171270718232044\n",
      "Recall score Bagging Data Classifier : 0.8972972972972973\n",
      "F1 score Bagging Data Classifier : 0.907103825136612\n",
      "\n",
      "\n",
      "\n",
      "Accuracy score for Randome Forest Classifier : 0.9820531227566404\n",
      "Precision score Randome Forest Classifier : 1.0\n",
      "Recall score Randome Forest Classifier : 0.8648648648648649\n",
      "F1 score Randome Forest Classifier : 0.927536231884058\n",
      "\n",
      "\n",
      "\n",
      "Accuracy score for Ada Boost Classifier : 0.9770279971284996\n",
      "Precision score Ada Boost Classifier : 0.9693251533742331\n",
      "Recall score Ada Boost Classifier : 0.8540540540540541\n",
      "F1 score Ada Boost Classifier : 0.9080459770114943\n",
      "\n",
      "\n",
      "\n"
     ]
    }
   ],
   "source": [
    "print_metrics(y_test, predictions, model_name='Naive Bayes')\n",
    "print_metrics(y_test, bg_clf_predict, model_name='Bagging Data Classifier')\n",
    "print_metrics(y_test, rdm_forest_clf, model_name='Randome Forest Classifier')\n",
    "print_metrics(y_test, adboost_clf, model_name='Ada Boost Classifier')"
   ]
  },
  {
   "cell_type": "code",
   "execution_count": null,
   "metadata": {},
   "outputs": [],
   "source": []
  }
 ],
 "metadata": {
  "kernelspec": {
   "display_name": "Python 3",
   "language": "python",
   "name": "python3"
  },
  "language_info": {
   "codemirror_mode": {
    "name": "ipython",
    "version": 3
   },
   "file_extension": ".py",
   "mimetype": "text/x-python",
   "name": "python",
   "nbconvert_exporter": "python",
   "pygments_lexer": "ipython3",
   "version": "3.9.1"
  }
 },
 "nbformat": 4,
 "nbformat_minor": 4
}

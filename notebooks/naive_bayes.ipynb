{
 "cells": [
  {
   "cell_type": "code",
   "execution_count": 17,
   "metadata": {},
   "outputs": [
    {
     "name": "stdout",
     "output_type": "stream",
     "text": [
      "Alex prob of wearing red in the week: 0.6666666666666667\n",
      "Brenda prob of wearing red in the week: 0.33333333333333337\n",
      "Sum of all probs: 1.0\n"
     ]
    }
   ],
   "source": [
    "# Bayes Theorem\n",
    "\n",
    "# https://youtu.be/pQgO1KF90yU?t=135\n",
    "# Both alex and brenda wears red and are in office for the same amount of time.\n",
    "# Alex wears red about 2 times in a week and brenda wears it about 3 times in a week.\n",
    "# Alex comes to the office 3 times a week where Brenda comes to the office 1 times a week.\n",
    "\n",
    "alex_appearance = 3\n",
    "brenda_appearance = 1\n",
    "\n",
    "alex_wears_red_in_week = 2\n",
    "brenda_wears_red_in_week = 3\n",
    "\n",
    "\n",
    "work_days_in_a_week = 5\n",
    "\n",
    "\n",
    "total_appearances_in_office = alex_appearance + brenda_appearance\n",
    "\n",
    "# Prior probabilities\n",
    "prob_of_alex_in_office = alex_appearance / total_appearances_in_office\n",
    "prob_of_brenda_in_office = brenda_appearance / total_appearances_in_office\n",
    "\n",
    "\n",
    "prob_of_alex_wearing_red_in_a_week = alex_wears_red_in_week / work_days_in_a_week\n",
    "prob_of_brenda_wearing_red_in_a_week = brenda_wears_red_in_week / work_days_in_a_week\n",
    "\n",
    "\n",
    "prob_alex_wearing_red_in_a_week = round(prob_of_alex_in_office * prob_of_alex_wearing_red_in_a_week, 2)\n",
    "prob_brenda_wearing_red_in_a_week = round(prob_of_brenda_in_office * prob_of_brenda_wearing_red_in_a_week, 2)\n",
    "\n",
    "\n",
    "# Bayesian Theorem\n",
    "# P (Alex wearing red given alex in office)\n",
    "# The division is required to normalize the data to 1 otherwise the probabilities are good as is\n",
    "# bayes_alex and bayes_brenda are posterior probabilities which happened after R (a new event ocurred)\n",
    "\n",
    "# bayes_theorem\n",
    "# P(A|R) = P(A) * P(R|A) / P(A) * P(R|A) + P(B) * P(R|B)\n",
    "# P(B|R) = P(B) * P(R|B) / P(A) * P(R|A) + P(B) * P(R|B)\n",
    "\n",
    "bayes_alex = prob_alex_wearing_red_in_a_week / (prob_alex_wearing_red_in_a_week + prob_brenda_wearing_red_in_a_week)\n",
    "bayes_brenda = prob_brenda_wearing_red_in_a_week / (prob_alex_wearing_red_in_a_week + prob_brenda_wearing_red_in_a_week)\n",
    "\n",
    "\n",
    "# Bayes sum should always be equal to 1\n",
    "print(f\"Alex prob of wearing red in the week: {bayes_alex}\")\n",
    "print(f\"Brenda prob of wearing red in the week: {bayes_brenda}\")\n",
    "print(f\"Sum of all probs: {bayes_alex + bayes_brenda}\")"
   ]
  },
  {
   "cell_type": "code",
   "execution_count": null,
   "metadata": {},
   "outputs": [],
   "source": []
  }
 ],
 "metadata": {
  "kernelspec": {
   "display_name": "Python 3",
   "language": "python",
   "name": "python3"
  },
  "language_info": {
   "codemirror_mode": {
    "name": "ipython",
    "version": 3
   },
   "file_extension": ".py",
   "mimetype": "text/x-python",
   "name": "python",
   "nbconvert_exporter": "python",
   "pygments_lexer": "ipython3",
   "version": "3.9.1"
  }
 },
 "nbformat": 4,
 "nbformat_minor": 4
}

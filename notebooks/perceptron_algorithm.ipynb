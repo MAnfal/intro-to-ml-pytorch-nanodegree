{
 "cells": [
  {
   "cell_type": "code",
   "execution_count": 1,
   "metadata": {},
   "outputs": [
    {
     "data": {
      "text/plain": [
       "2"
      ]
     },
     "execution_count": 1,
     "metadata": {},
     "output_type": "execute_result"
    }
   ],
   "source": [
    "# Linear boundaries, acceptance into university problem.\n",
    "# The equation is 2x1 + x2 - 18\n",
    "\n",
    "\"\"\"\n",
    "Question\n",
    "\n",
    "Now that you know the equation for the line (2x1 + x2 - 18=0), \n",
    "and similarly the “score” (2x1 + x2 - 18), \n",
    "what is the score of the student who got 7 in the test and 6 for grades?\n",
    "\"\"\"\n",
    "\n",
    "# x1 denotes test in the video graph and x2 denotes grades.\n",
    "x1 = 7\n",
    "x2 = 6\n",
    "\n",
    "answer = 2 * x1 + x2 - 18\n",
    "\n",
    "answer"
   ]
  },
  {
   "cell_type": "code",
   "execution_count": 4,
   "metadata": {},
   "outputs": [
    {
     "data": {
      "text/plain": [
       "'No'"
      ]
     },
     "execution_count": 4,
     "metadata": {},
     "output_type": "execute_result"
    }
   ],
   "source": [
    "\"\"\"\n",
    "Given Score = 2*Test + 1*Grade - 18, suppose w1 was 1.5 instead of 2. \n",
    "Would the student who got 7 on the test and 6 on the grades be accepted or rejected?\n",
    "\"\"\"\n",
    "\n",
    "# x1 denotes test in the video graph and x2 denotes grades.\n",
    "x1 = 7\n",
    "x2 = 6\n",
    "\n",
    "answer = 1.5 * x1 + x2 - 18\n",
    "\n",
    "answer = \"Yes\" if answer >= 0 else \"No\"\n",
    "\n",
    "answer"
   ]
  },
  {
   "cell_type": "code",
   "execution_count": 108,
   "metadata": {},
   "outputs": [
    {
     "name": "stdout",
     "output_type": "stream",
     "text": [
      "Once deleted, variables cannot be recovered. Proceed (y/[n])? y\n",
      "Nice!  You got it all correct.\n",
      "\n",
      " Input 1    Input 2    Linear Combination    Activation Output   Is Correct\n",
      "       0          0                  -1.0                    0          Yes\n",
      "       0          1                  -0.5                    0          Yes\n",
      "       1          0                  -0.5                    0          Yes\n",
      "       1          1                   0.0                    1          Yes\n"
     ]
    }
   ],
   "source": [
    "# Preceptron as a logical AND\n",
    "\n",
    "%reset\n",
    "\n",
    "import pandas as pd\n",
    "\n",
    "# TODO: Set weight1, weight2, and bias\n",
    "weight1 = 0.5\n",
    "weight2 = 0.5\n",
    "bias = -1\n",
    "\n",
    "\n",
    "# DON'T CHANGE ANYTHING BELOW\n",
    "# Inputs and outputs\n",
    "test_inputs = [(0, 0), (0, 1), (1, 0), (1, 1)]\n",
    "correct_outputs = [False, False, False, True]\n",
    "outputs = []\n",
    "\n",
    "# Generate and check output\n",
    "for test_input, correct_output in zip(test_inputs, correct_outputs):\n",
    "    linear_combination = weight1 * test_input[0] + weight2 * test_input[1] + bias\n",
    "    output = int(linear_combination >= 0)\n",
    "    is_correct_string = 'Yes' if output == correct_output else 'No'\n",
    "    outputs.append([test_input[0], test_input[1], linear_combination, output, is_correct_string])\n",
    "\n",
    "# Print output\n",
    "num_wrong = len([output[4] for output in outputs if output[4] == 'No'])\n",
    "output_frame = pd.DataFrame(outputs, columns=['Input 1', '  Input 2', '  Linear Combination', '  Activation Output', '  Is Correct'])\n",
    "if not num_wrong:\n",
    "    print('Nice!  You got it all correct.\\n')\n",
    "else:\n",
    "    print('You got {} wrong.  Keep trying!\\n'.format(num_wrong))\n",
    "print(output_frame.to_string(index=False))\n"
   ]
  },
  {
   "cell_type": "code",
   "execution_count": 126,
   "metadata": {},
   "outputs": [
    {
     "name": "stdout",
     "output_type": "stream",
     "text": [
      "Once deleted, variables cannot be recovered. Proceed (y/[n])? y\n",
      "Nice!  You got it all correct.\n",
      "\n",
      " Input 1    Input 2    Linear Combination    Activation Output   Is Correct\n",
      "       0          0                 -0.01                    0          Yes\n",
      "       0          1                  0.49                    1          Yes\n",
      "       1          0                  0.49                    1          Yes\n",
      "       1          1                  0.99                    1          Yes\n"
     ]
    }
   ],
   "source": [
    "# Perceptron as a logical OR\n",
    "\n",
    "%reset\n",
    "\n",
    "import pandas as pd\n",
    "\n",
    "# TODO: Set weight1, weight2, and bias\n",
    "weight1 = 0.5\n",
    "weight2 = 0.5\n",
    "bias = -0.01\n",
    "\n",
    "\n",
    "# DON'T CHANGE ANYTHING BELOW\n",
    "# Inputs and outputs\n",
    "test_inputs = [(0, 0), (0, 1), (1, 0), (1, 1)]\n",
    "correct_outputs = [False, True, True, True]\n",
    "outputs = []\n",
    "\n",
    "# Generate and check output\n",
    "for test_input, correct_output in zip(test_inputs, correct_outputs):\n",
    "    linear_combination = weight1 * test_input[0] + weight2 * test_input[1] + bias\n",
    "    output = int(linear_combination >= 0)\n",
    "    is_correct_string = 'Yes' if output == correct_output else 'No'\n",
    "    outputs.append([test_input[0], test_input[1], linear_combination, output, is_correct_string])\n",
    "\n",
    "# Print output\n",
    "num_wrong = len([output[4] for output in outputs if output[4] == 'No'])\n",
    "output_frame = pd.DataFrame(outputs, columns=['Input 1', '  Input 2', '  Linear Combination', '  Activation Output', '  Is Correct'])\n",
    "if not num_wrong:\n",
    "    print('Nice!  You got it all correct.\\n')\n",
    "else:\n",
    "    print('You got {} wrong.  Keep trying!\\n'.format(num_wrong))\n",
    "print(output_frame.to_string(index=False))\n"
   ]
  },
  {
   "cell_type": "code",
   "execution_count": 130,
   "metadata": {},
   "outputs": [
    {
     "name": "stdout",
     "output_type": "stream",
     "text": [
      "Once deleted, variables cannot be recovered. Proceed (y/[n])? y\n",
      "Nice!  You got it all correct.\n",
      "\n",
      " Input 1    Input 2    Linear Combination    Activation Output   Is Correct\n",
      "       0          0                   0.1                    1          Yes\n",
      "       0          1                  -0.9                    0          Yes\n",
      "       1          0                   0.1                    1          Yes\n",
      "       1          1                  -0.9                    0          Yes\n"
     ]
    }
   ],
   "source": [
    "%reset\n",
    "\n",
    "# Perceptron as a logical NOT\n",
    "\n",
    "import pandas as pd\n",
    "\n",
    "# TODO: Set weight1, weight2, and bias\n",
    "weight1 = 0.0\n",
    "weight2 = -1\n",
    "bias = 0.1\n",
    "\n",
    "\n",
    "# DON'T CHANGE ANYTHING BELOW\n",
    "# Inputs and outputs\n",
    "test_inputs = [(0, 0), (0, 1), (1, 0), (1, 1)]\n",
    "correct_outputs = [True, False, True, False]\n",
    "outputs = []\n",
    "\n",
    "# Generate and check output\n",
    "for test_input, correct_output in zip(test_inputs, correct_outputs):\n",
    "    linear_combination = weight1 * test_input[0] + weight2 * test_input[1] + bias\n",
    "    output = int(linear_combination >= 0)\n",
    "    is_correct_string = 'Yes' if output == correct_output else 'No'\n",
    "    outputs.append([test_input[0], test_input[1], linear_combination, output, is_correct_string])\n",
    "\n",
    "# Print output\n",
    "num_wrong = len([output[4] for output in outputs if output[4] == 'No'])\n",
    "output_frame = pd.DataFrame(outputs, columns=['Input 1', '  Input 2', '  Linear Combination', '  Activation Output', '  Is Correct'])\n",
    "if not num_wrong:\n",
    "    print('Nice!  You got it all correct.\\n')\n",
    "else:\n",
    "    print('You got {} wrong.  Keep trying!\\n'.format(num_wrong))\n",
    "print(output_frame.to_string(index=False))"
   ]
  },
  {
   "cell_type": "code",
   "execution_count": 6,
   "metadata": {
    "scrolled": true
   },
   "outputs": [
    {
     "name": "stdout",
     "output_type": "stream",
     "text": [
      "Once deleted, variables cannot be recovered. Proceed (y/[n])? y\n",
      "-2.7\n",
      "-2.4\n",
      "-2.1\n",
      "-1.8\n",
      "-1.5\n",
      "-1.2\n",
      "-0.9\n",
      "-0.6\n",
      "-0.3\n",
      "-0.0\n",
      "0.3\n",
      "0.6\n",
      "0.9\n",
      "Minimum distance: 0.09999999999999998 found in iteration: 12\n"
     ]
    }
   ],
   "source": [
    "%reset\n",
    "\n",
    "\"\"\"\n",
    "For the second example, where the line is described by 3x1+ 4x2 - 10 = 0, \n",
    "if the learning rate was set to 0.1, \n",
    "how many times would you have to apply the perceptron trick to move the line to a position where the blue point, \n",
    "at (1, 1), is correctly classified?\n",
    "\"\"\"\n",
    "\n",
    "w1 = 3\n",
    "w2 = 4\n",
    "b = -10\n",
    "x, y = (1, 1)\n",
    "learning_rate = 0.1\n",
    "\n",
    "original_solution = (3 * x) + (4 * y) - 10 \n",
    "\n",
    "difference = y - original_solution\n",
    "solution_found_in_iteration = 0\n",
    "\n",
    "for i in range(13):\n",
    "    w1 = w1 + (x * learning_rate)\n",
    "    w2 = w2 + (y * learning_rate)\n",
    "    b = b + (1 * learning_rate)\n",
    "    \n",
    "    result = round(w1 * x + w2 * y + b, 2)\n",
    "    \n",
    "    new_difference = y - result\n",
    "    \n",
    "    print(result)\n",
    "    \n",
    "    if new_difference < difference:\n",
    "        difference = new_difference\n",
    "        solution_found_in_iteration = i\n",
    "    \n",
    "print(f\"Minimum distance: {difference} found in iteration: {solution_found_in_iteration}\")\n",
    "\n",
    "# The answer was 10th iteration. Dunno why I am getting 12th."
   ]
  },
  {
   "cell_type": "code",
   "execution_count": null,
   "metadata": {},
   "outputs": [],
   "source": [
    "# TODO: Implement perceptron algorithm.\n",
    "\n",
    "# https://classroom.udacity.com/nanodegrees/nd229/parts/a7ab8516-6980-4c4e-87f7-b19a975d809e/modules/f47944d6-4ded-4acb-8f52-531d85697932/lessons/0bced143-7e54-4395-896c-41106ae71487/concepts/dc837952-c0d8-43fc-921c-f1ffe316c795"
   ]
  }
 ],
 "metadata": {
  "kernelspec": {
   "display_name": "Python 3",
   "language": "python",
   "name": "python3"
  },
  "language_info": {
   "codemirror_mode": {
    "name": "ipython",
    "version": 3
   },
   "file_extension": ".py",
   "mimetype": "text/x-python",
   "name": "python",
   "nbconvert_exporter": "python",
   "pygments_lexer": "ipython3",
   "version": "3.9.1"
  }
 },
 "nbformat": 4,
 "nbformat_minor": 4
}

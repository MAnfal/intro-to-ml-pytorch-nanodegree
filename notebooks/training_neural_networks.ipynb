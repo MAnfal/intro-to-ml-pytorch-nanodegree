{
 "cells": [
  {
   "cell_type": "code",
   "execution_count": 14,
   "metadata": {},
   "outputs": [
    {
     "name": "stdout",
     "output_type": "stream",
     "text": [
      "Results for points: (1, 1)\n",
      "Eq 1 Error: 19.000000002061153\n",
      "Eq 2 Error: 1.1192029220221178\n",
      "Results for points: (-1, -1)\n",
      "Eq 1 Error: -20.000000002061153\n",
      "Eq 2 Error: -2.1192029220221174\n"
     ]
    }
   ],
   "source": [
    "# Regularization Quiz\n",
    "import numpy as np\n",
    "\n",
    "def eq1(x1, x2):\n",
    "    return 10 * x1 + 10 * x2\n",
    "\n",
    "def eq2(x1, x2):\n",
    "    return x1 + x2\n",
    "\n",
    "def sigmoid(x):\n",
    "    return 1 / (1 + np.exp(-x))\n",
    "\n",
    "points = [\n",
    "    (1, 1),\n",
    "    (-1, -1)\n",
    "]\n",
    "\n",
    "for point in points:\n",
    "    print(f\"Results for points: {point}\")\n",
    "    expected_eq1 = eq1(point[0], point[1])\n",
    "    expected_eq2 = eq2(point[0], point[1])\n",
    "    \n",
    "    print(f\"Eq 1 Error: { expected_eq1 - sigmoid(expected_eq1) }\")\n",
    "    print(f\"Eq 2 Error: { expected_eq2 - sigmoid(expected_eq2) }\")"
   ]
  },
  {
   "cell_type": "code",
   "execution_count": null,
   "metadata": {},
   "outputs": [],
   "source": []
  }
 ],
 "metadata": {
  "kernelspec": {
   "display_name": "Python 3",
   "language": "python",
   "name": "python3"
  },
  "language_info": {
   "codemirror_mode": {
    "name": "ipython",
    "version": 3
   },
   "file_extension": ".py",
   "mimetype": "text/x-python",
   "name": "python",
   "nbconvert_exporter": "python",
   "pygments_lexer": "ipython3",
   "version": "3.9.1"
  }
 },
 "nbformat": 4,
 "nbformat_minor": 4
}

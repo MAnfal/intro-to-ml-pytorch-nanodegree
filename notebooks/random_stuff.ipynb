{
 "cells": [
  {
   "cell_type": "code",
   "execution_count": 10,
   "metadata": {},
   "outputs": [
    {
     "data": {
      "text/plain": [
       "(1797, 64)"
      ]
     },
     "execution_count": 10,
     "metadata": {},
     "output_type": "execute_result"
    }
   ],
   "source": [
    "from sklearn import datasets\n",
    "import matplotlib.pyplot as plt \n",
    "\n",
    "digits = load_digits()\n",
    "\n",
    "# _, axes = plt.subplots(nrows=1, ncols=4, figsize=(10, 3))\n",
    "# for ax, image, label in zip(axes, digits.images, digits.target):\n",
    "#     ax.set_axis_off()\n",
    "#     ax.imshow(image, cmap=plt.cm.gray_r, interpolation='nearest')\n",
    "#     ax.set_title('Training: %i' % label)\n",
    "\n",
    "digits['data'].shape"
   ]
  },
  {
   "cell_type": "code",
   "execution_count": null,
   "metadata": {},
   "outputs": [],
   "source": []
  }
 ],
 "metadata": {
  "kernelspec": {
   "display_name": "Python 3",
   "language": "python",
   "name": "python3"
  },
  "language_info": {
   "codemirror_mode": {
    "name": "ipython",
    "version": 3
   },
   "file_extension": ".py",
   "mimetype": "text/x-python",
   "name": "python",
   "nbconvert_exporter": "python",
   "pygments_lexer": "ipython3",
   "version": "3.9.1"
  }
 },
 "nbformat": 4,
 "nbformat_minor": 4
}
